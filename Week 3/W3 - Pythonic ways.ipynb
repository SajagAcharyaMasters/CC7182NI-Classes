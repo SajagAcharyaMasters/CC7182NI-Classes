{
 "cells": [
  {
   "metadata": {},
   "cell_type": "markdown",
   "source": "## Dictionaries",
   "id": "ba22ef5e2981a24e"
  },
  {
   "cell_type": "code",
   "id": "initial_id",
   "metadata": {
    "collapsed": true,
    "ExecuteTime": {
     "end_time": "2025-06-22T01:34:18.808700Z",
     "start_time": "2025-06-22T01:34:18.803189Z"
    }
   },
   "source": [
    "import string\n",
    "\n",
    "d = {\n",
    "    'key' : 'val',\n",
    "    'first' : 65,\n",
    "}\n",
    "print(d)\n",
    "print(d['key'])\n",
    "d['new'] = 'adding new things'\n",
    "d.pop('key') # remove\n",
    "print(d)\n",
    "d.update({1 : 'one', 2 : 'two'})\n",
    "print(d)"
   ],
   "outputs": [
    {
     "name": "stdout",
     "output_type": "stream",
     "text": [
      "{'key': 'val', 'first': 65}\n",
      "val\n",
      "{'first': 65, 'new': 'adding new things'}\n",
      "{'first': 65, 'new': 'adding new things', 1: 'one', 2: 'two'}\n"
     ]
    }
   ],
   "execution_count": 1
  },
  {
   "metadata": {
    "ExecuteTime": {
     "end_time": "2025-06-22T01:36:29.362484Z",
     "start_time": "2025-06-22T01:36:29.358271Z"
    }
   },
   "cell_type": "code",
   "source": [
    "# Union of dict\n",
    "info = {\n",
    "'name' : 'Dr. Victor Frankenstein',\n",
    "'spouse' : 'Elizabeth Lavenza',\n",
    "'occupation' : 'Doctor',\n",
    "'nickname' : 'The Modern Prometheus'\n",
    "}\n",
    "print(info | {\n",
    "'nickname' : 'Mad Scientist',\n",
    "})"
   ],
   "id": "8148a0a7fea85594",
   "outputs": [
    {
     "name": "stdout",
     "output_type": "stream",
     "text": [
      "{'name': 'Dr. Victor Frankenstein', 'spouse': 'Elizabeth Lavenza', 'occupation': 'Doctor', 'nickname': 'Mad Scientist'}\n"
     ]
    }
   ],
   "execution_count": 2
  },
  {
   "metadata": {},
   "cell_type": "markdown",
   "source": "#### count letter frequency",
   "id": "efbd21713d572558"
  },
  {
   "metadata": {
    "ExecuteTime": {
     "end_time": "2025-06-22T01:51:56.903874Z",
     "start_time": "2025-06-22T01:51:56.900339Z"
    }
   },
   "cell_type": "code",
   "source": [
    "import string\n",
    "inpStr = 'the quick brown fox jumps over the lazy dog'\n",
    "alphabets = dict.fromkeys(string.ascii_lowercase, 0)\n",
    "for char in inpStr:\n",
    "    if char in string.ascii_lowercase:\n",
    "        alphabets[char] += 1\n",
    "print(*alphabets)\n",
    "print(*alphabets.values())"
   ],
   "id": "37a8847e4caf1560",
   "outputs": [
    {
     "name": "stdout",
     "output_type": "stream",
     "text": [
      "a b c d e f g h i j k l m n o p q r s t u v w x y z\n",
      "1 1 1 1 3 1 1 2 1 1 1 1 1 1 4 1 1 2 1 2 2 1 1 1 1 1\n"
     ]
    }
   ],
   "execution_count": 10
  },
  {
   "metadata": {},
   "cell_type": "markdown",
   "source": "#### Count frequency of chars",
   "id": "e720e7ba4cc2022c"
  },
  {
   "metadata": {
    "ExecuteTime": {
     "end_time": "2025-06-22T01:53:50.814617Z",
     "start_time": "2025-06-22T01:53:50.810446Z"
    }
   },
   "cell_type": "code",
   "source": [
    "phrase = 'list of punctuations are .,!;'\n",
    "charDict = dict.fromkeys(phrase, 0)\n",
    "for char in phrase:\n",
    "    charDict[char] += 1\n",
    "print(*charDict)\n",
    "print(*charDict.values())"
   ],
   "id": "2a8e9d34d7ff31ab",
   "outputs": [
    {
     "name": "stdout",
     "output_type": "stream",
     "text": [
      "l i s t   o f p u n c a r e . , ! ;\n",
      "1 2 2 3 4 2 1 1 2 2 1 2 1 1 1 1 1 1\n"
     ]
    }
   ],
   "execution_count": 11
  },
  {
   "metadata": {},
   "cell_type": "markdown",
   "source": [
    "#### word length distribution\n",
    "Done in file 'W3 - Dictionary - Length Distribution'"
   ],
   "id": "96872a1b9216b5b1"
  },
  {
   "metadata": {
    "ExecuteTime": {
     "end_time": "2025-06-28T08:14:21.735182Z",
     "start_time": "2025-06-28T08:14:21.727622Z"
    }
   },
   "cell_type": "code",
   "source": [
    "#CONCATENATION\n",
    "print([1, 2, 3] + [4, 5, 6])\n",
    "print((1, 2, 3) + (4, 5, 6))\n",
    "print('abc' + 'efg')"
   ],
   "id": "1290b334b1a8d5db",
   "outputs": [
    {
     "name": "stdout",
     "output_type": "stream",
     "text": [
      "[1, 2, 3, 4, 5, 6]\n",
      "(1, 2, 3, 4, 5, 6)\n",
      "abcefg\n"
     ]
    }
   ],
   "execution_count": 1
  },
  {
   "metadata": {
    "ExecuteTime": {
     "end_time": "2025-06-28T08:15:12.915921Z",
     "start_time": "2025-06-28T08:15:12.912940Z"
    }
   },
   "cell_type": "code",
   "source": [
    "#REPEAT\n",
    "print((0, 1) * 5)\n",
    "print((1, 2) * 5)\n",
    "print('abc ' * 5)"
   ],
   "id": "afbff8f47bd891c9",
   "outputs": [
    {
     "name": "stdout",
     "output_type": "stream",
     "text": [
      "(0, 1, 0, 1, 0, 1, 0, 1, 0, 1)\n",
      "(1, 2, 1, 2, 1, 2, 1, 2, 1, 2)\n",
      "abc abc abc abc abc \n"
     ]
    }
   ],
   "execution_count": 2
  },
  {
   "metadata": {
    "ExecuteTime": {
     "end_time": "2025-06-28T08:15:35.274861Z",
     "start_time": "2025-06-28T08:15:35.271062Z"
    }
   },
   "cell_type": "code",
   "source": [
    "a = [10, 20, 30]\n",
    "print(i:=a.index(20), a[i])\n",
    "t = (40, 50, 60)\n",
    "print(i:=t.index(60), t[i])\n",
    "s = 'hello world'\n",
    "print(i:=s.index('world'), s[i:])"
   ],
   "id": "ab872a1fe3af69d0",
   "outputs": [
    {
     "name": "stdout",
     "output_type": "stream",
     "text": [
      "1 20\n",
      "2 60\n",
      "6 world\n"
     ]
    }
   ],
   "execution_count": 3
  }
 ],
 "metadata": {
  "kernelspec": {
   "display_name": "Python 3",
   "language": "python",
   "name": "python3"
  },
  "language_info": {
   "codemirror_mode": {
    "name": "ipython",
    "version": 2
   },
   "file_extension": ".py",
   "mimetype": "text/x-python",
   "name": "python",
   "nbconvert_exporter": "python",
   "pygments_lexer": "ipython2",
   "version": "2.7.6"
  }
 },
 "nbformat": 4,
 "nbformat_minor": 5
}
