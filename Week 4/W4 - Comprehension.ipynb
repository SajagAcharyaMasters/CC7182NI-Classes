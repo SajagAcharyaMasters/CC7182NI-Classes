{
 "cells": [
  {
   "metadata": {},
   "cell_type": "markdown",
   "source": "# List comprehension",
   "id": "93003befa6b0714b"
  },
  {
   "cell_type": "code",
   "id": "initial_id",
   "metadata": {
    "collapsed": true,
    "ExecuteTime": {
     "end_time": "2025-06-29T03:02:07.260332Z",
     "start_time": "2025-06-29T03:02:07.256663Z"
    }
   },
   "source": [
    "square =[]\n",
    "for i in range(10):\n",
    "    square.append(i * i)\n",
    "print(square)"
   ],
   "outputs": [
    {
     "name": "stdout",
     "output_type": "stream",
     "text": [
      "[0, 1, 4, 9, 16, 25, 36, 49, 64, 81]\n"
     ]
    }
   ],
   "execution_count": 2
  },
  {
   "metadata": {
    "ExecuteTime": {
     "end_time": "2025-06-29T03:02:07.311660Z",
     "start_time": "2025-06-29T03:02:07.308027Z"
    }
   },
   "cell_type": "code",
   "source": "print([ i * i for i in range(10) ])",
   "id": "519155eb74f59fca",
   "outputs": [
    {
     "name": "stdout",
     "output_type": "stream",
     "text": [
      "[0, 1, 4, 9, 16, 25, 36, 49, 64, 81]\n"
     ]
    }
   ],
   "execution_count": 3
  },
  {
   "metadata": {},
   "cell_type": "markdown",
   "source": "## 1. Undumpify",
   "id": "f36178574c8de1"
  },
  {
   "metadata": {
    "ExecuteTime": {
     "end_time": "2025-06-29T03:03:15.138583Z",
     "start_time": "2025-06-29T03:03:15.134646Z"
    }
   },
   "cell_type": "code",
   "source": [
    "d = iter('67726561742c20796f752063616e207265616421')\n",
    "for i, j in zip(d, d):\n",
    "    print(chr(int(i+j, 16)), end='')"
   ],
   "id": "f23c7133eff3070a",
   "outputs": [
    {
     "name": "stdout",
     "output_type": "stream",
     "text": [
      "great, you can read!"
     ]
    }
   ],
   "execution_count": 4
  },
  {
   "metadata": {
    "ExecuteTime": {
     "end_time": "2025-06-29T03:06:38.434691Z",
     "start_time": "2025-06-29T03:06:38.430424Z"
    }
   },
   "cell_type": "code",
   "source": [
    "d = iter('67726561742c20796f752063616e207265616421')\n",
    "print(''.join([ chr(int(i+j, 16)) for i, j in zip (d,d) ]))"
   ],
   "id": "9af59b0dab87350d",
   "outputs": [
    {
     "name": "stdout",
     "output_type": "stream",
     "text": [
      "great, you can read!\n"
     ]
    }
   ],
   "execution_count": 10
  },
  {
   "metadata": {
    "ExecuteTime": {
     "end_time": "2025-06-29T03:06:45.772822Z",
     "start_time": "2025-06-29T03:06:45.769286Z"
    }
   },
   "cell_type": "code",
   "source": [
    "d = iter('67726561742c20796f752063616e207265616421')\n",
    "print(bytes([ int(i+j, 16) for i, j in zip (d,d) ]).decode())"
   ],
   "id": "5f389c34bc6f73c8",
   "outputs": [
    {
     "name": "stdout",
     "output_type": "stream",
     "text": [
      "great, you can read!\n"
     ]
    }
   ],
   "execution_count": 11
  },
  {
   "metadata": {
    "ExecuteTime": {
     "end_time": "2025-06-29T03:07:58.995164Z",
     "start_time": "2025-06-29T03:07:58.991510Z"
    }
   },
   "cell_type": "code",
   "source": [
    "# square of even number till 10\n",
    "print([ i * i for i in range(10) if i % 2 == 0])"
   ],
   "id": "cfa033cae44a4646",
   "outputs": [
    {
     "name": "stdout",
     "output_type": "stream",
     "text": [
      "[0, 4, 16, 36, 64]\n"
     ]
    }
   ],
   "execution_count": 14
  },
  {
   "metadata": {},
   "cell_type": "markdown",
   "source": [
    "How many 2-digit numbers have tens digit smaller than it unit\n",
    "digit i.e suppose for number 56, 5 is tens position, 6 is ones\n",
    "position 5 < 6"
   ],
   "id": "fe2b01136d4c436d"
  },
  {
   "metadata": {
    "ExecuteTime": {
     "end_time": "2025-06-29T03:12:12.255766Z",
     "start_time": "2025-06-29T03:12:12.250871Z"
    }
   },
   "cell_type": "code",
   "source": [
    "nums = [ n for n in range(10, 100) if (n // 10) < (n % 10) ]\n",
    "print(f'Count: {len(nums)}')\n",
    "print(nums)\n"
   ],
   "id": "47ec0cee6a39f48d",
   "outputs": [
    {
     "name": "stdout",
     "output_type": "stream",
     "text": [
      "Count: 36\n",
      "[12, 13, 14, 15, 16, 17, 18, 19, 23, 24, 25, 26, 27, 28, 29, 34, 35, 36, 37, 38, 39, 45, 46, 47, 48, 49, 56, 57, 58, 59, 67, 68, 69, 78, 79, 89]\n"
     ]
    }
   ],
   "execution_count": 18
  },
  {
   "metadata": {},
   "cell_type": "markdown",
   "source": [
    "How many digits are there between 1-999?\n",
    "5-15 : [5 6 7 8 9 10 11 12 13 14 15] = 17 digits"
   ],
   "id": "494d1be69936c2f4"
  },
  {
   "metadata": {
    "ExecuteTime": {
     "end_time": "2025-06-29T03:16:35.384849Z",
     "start_time": "2025-06-29T03:16:35.380981Z"
    }
   },
   "cell_type": "code",
   "source": [
    "digits = [ len(str(x)) for x in range(1, 1000) ]\n",
    "print(sum(digits))"
   ],
   "id": "dd9ecda5e4345fa8",
   "outputs": [
    {
     "name": "stdout",
     "output_type": "stream",
     "text": [
      "2889\n"
     ]
    }
   ],
   "execution_count": 19
  },
  {
   "metadata": {},
   "cell_type": "markdown",
   "source": "### reduce",
   "id": "2ebbf238bc82faf3"
  },
  {
   "metadata": {
    "ExecuteTime": {
     "end_time": "2025-06-29T03:17:33.049371Z",
     "start_time": "2025-06-29T03:17:33.045536Z"
    }
   },
   "cell_type": "code",
   "source": [
    "import functools\n",
    "print(sum(range(10)))\n",
    "print(functools.reduce(lambda x, y: x + y, range(10)))"
   ],
   "id": "7304111003d4b216",
   "outputs": [
    {
     "name": "stdout",
     "output_type": "stream",
     "text": [
      "45\n",
      "45\n"
     ]
    }
   ],
   "execution_count": 21
  },
  {
   "metadata": {},
   "cell_type": "markdown",
   "source": "Q. find the factorial of 4 using functools.reduce()",
   "id": "94598d94d8de457d"
  },
  {
   "metadata": {
    "ExecuteTime": {
     "end_time": "2025-06-29T03:20:25.005722Z",
     "start_time": "2025-06-29T03:20:25.001885Z"
    }
   },
   "cell_type": "code",
   "source": "print(functools.reduce(lambda x, y: x * y, range(2, 5)))",
   "id": "70543c1fb0b8bb78",
   "outputs": [
    {
     "name": "stdout",
     "output_type": "stream",
     "text": [
      "24\n"
     ]
    }
   ],
   "execution_count": 27
  },
  {
   "metadata": {
    "ExecuteTime": {
     "end_time": "2025-06-29T03:22:15.917036Z",
     "start_time": "2025-06-29T03:22:15.912902Z"
    }
   },
   "cell_type": "code",
   "source": "print({k : v for k, v in zip('hello', range(5)) if v % 2})",
   "id": "d7261061c9cb3eba",
   "outputs": [
    {
     "name": "stdout",
     "output_type": "stream",
     "text": [
      "{'e': 1, 'l': 3}\n"
     ]
    }
   ],
   "execution_count": 28
  },
  {
   "metadata": {
    "ExecuteTime": {
     "end_time": "2025-06-29T03:23:51.285782Z",
     "start_time": "2025-06-29T03:23:51.281796Z"
    }
   },
   "cell_type": "code",
   "source": [
    "print(*zip('hello peoples', range(5)))\n",
    "print(*zip('hello peoples', range(2)))\n",
    "print(*zip('hello peoples', range(19)))"
   ],
   "id": "8fc0c433c17303a",
   "outputs": [
    {
     "name": "stdout",
     "output_type": "stream",
     "text": [
      "('h', 0) ('e', 1) ('l', 2) ('l', 3) ('o', 4)\n",
      "('h', 0) ('e', 1)\n",
      "('h', 0) ('e', 1) ('l', 2) ('l', 3) ('o', 4) (' ', 5) ('p', 6) ('e', 7) ('o', 8) ('p', 9) ('l', 10) ('e', 11) ('s', 12)\n"
     ]
    }
   ],
   "execution_count": 36
  }
 ],
 "metadata": {
  "kernelspec": {
   "display_name": "Python 3",
   "language": "python",
   "name": "python3"
  },
  "language_info": {
   "codemirror_mode": {
    "name": "ipython",
    "version": 2
   },
   "file_extension": ".py",
   "mimetype": "text/x-python",
   "name": "python",
   "nbconvert_exporter": "python",
   "pygments_lexer": "ipython2",
   "version": "2.7.6"
  }
 },
 "nbformat": 4,
 "nbformat_minor": 5
}
