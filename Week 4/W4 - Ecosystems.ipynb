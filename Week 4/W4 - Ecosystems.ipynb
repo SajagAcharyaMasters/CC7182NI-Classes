{
 "cells": [
  {
   "metadata": {},
   "cell_type": "markdown",
   "source": "Scopes",
   "id": "eac0d94cea50d5f7"
  },
  {
   "cell_type": "code",
   "id": "initial_id",
   "metadata": {
    "collapsed": true,
    "ExecuteTime": {
     "end_time": "2025-06-30T01:05:51.436148Z",
     "start_time": "2025-06-30T01:05:51.430909Z"
    }
   },
   "source": [
    "scope = 'global 🌍'\n",
    "def func():\n",
    "    # scope are restricted to function encloser\n",
    "    scope = 'enclosing 📦'\n",
    "    def nested_func():\n",
    "        scope = 'local 🎁'\n",
    "        print(scope)\n",
    "    nested_func()\n",
    "    print(scope)\n",
    "func()\n",
    "print(scope)"
   ],
   "outputs": [
    {
     "name": "stdout",
     "output_type": "stream",
     "text": [
      "local 🎁\n",
      "enclosing 📦\n",
      "global 🌍\n"
     ]
    }
   ],
   "execution_count": 1
  },
  {
   "metadata": {},
   "cell_type": "markdown",
   "source": "Accessing global scope",
   "id": "899330de306b32bd"
  },
  {
   "metadata": {
    "ExecuteTime": {
     "end_time": "2025-06-30T01:08:05.057265Z",
     "start_time": "2025-06-30T01:08:05.052114Z"
    }
   },
   "cell_type": "code",
   "source": [
    "scope = 'global 🌍'\n",
    "def func():\n",
    "    # scope are restricted to function encloser\n",
    "    scope = 'enclosing 📦'\n",
    "    def nested_func():\n",
    "        global scope\n",
    "        scope = 'local 🎁'\n",
    "        print(scope)\n",
    "    nested_func()\n",
    "    print(scope)\n",
    "func()\n",
    "print(scope)"
   ],
   "id": "b3601f7b483846da",
   "outputs": [
    {
     "name": "stdout",
     "output_type": "stream",
     "text": [
      "local 🎁\n",
      "enclosing 📦\n",
      "local 🎁\n"
     ]
    }
   ],
   "execution_count": 2
  },
  {
   "metadata": {},
   "cell_type": "markdown",
   "source": "Accessing non local scope",
   "id": "79833a3f7398e477"
  },
  {
   "metadata": {
    "ExecuteTime": {
     "end_time": "2025-06-30T01:11:43.648988Z",
     "start_time": "2025-06-30T01:11:43.645177Z"
    }
   },
   "cell_type": "code",
   "source": [
    "scope = 'global 🌍'\n",
    "def func():\n",
    "    # scope are restricted to function encloser\n",
    "    scope = 'enclosing 📦'\n",
    "    def nested_func():\n",
    "        nonlocal scope\n",
    "        scope = 'local 🎁'\n",
    "        print(scope)\n",
    "    nested_func()\n",
    "    print(scope)\n",
    "func()\n",
    "print(scope)"
   ],
   "id": "318dfd6e96882f91",
   "outputs": [
    {
     "name": "stdout",
     "output_type": "stream",
     "text": [
      "local 🎁\n",
      "local 🎁\n",
      "global 🌍\n"
     ]
    }
   ],
   "execution_count": 3
  },
  {
   "metadata": {},
   "cell_type": "markdown",
   "source": "Overriding built-ins",
   "id": "ebd23792d2637014"
  },
  {
   "metadata": {
    "ExecuteTime": {
     "end_time": "2025-06-30T01:12:34.897604Z",
     "start_time": "2025-06-30T01:12:34.893363Z"
    }
   },
   "cell_type": "code",
   "source": [
    "print('max is ', max)\n",
    "max = 10\n",
    "print('max is ', max)\n",
    "print('max is ', __builtins__.max)\n",
    "del max\n",
    "print('max is ', max)"
   ],
   "id": "918f1729a6a30647",
   "outputs": [
    {
     "name": "stdout",
     "output_type": "stream",
     "text": [
      "max is  <built-in function max>\n",
      "max is  10\n",
      "max is  <built-in function max>\n",
      "max is  <built-in function max>\n"
     ]
    }
   ],
   "execution_count": 4
  },
  {
   "metadata": {
    "ExecuteTime": {
     "end_time": "2025-06-30T01:13:38.017182Z",
     "start_time": "2025-06-30T01:13:38.013816Z"
    }
   },
   "cell_type": "code",
   "source": [
    "import os\n",
    "print(os)\n",
    "import sys\n",
    "print(sys)\n",
    "import math\n",
    "print(math)"
   ],
   "id": "a0c64f6164cd1e01",
   "outputs": [
    {
     "name": "stdout",
     "output_type": "stream",
     "text": [
      "<module 'os' (frozen)>\n",
      "<module 'sys' (built-in)>\n",
      "<module 'math' (built-in)>\n"
     ]
    }
   ],
   "execution_count": 5
  },
  {
   "metadata": {
    "ExecuteTime": {
     "end_time": "2025-06-30T01:16:44.190756Z",
     "start_time": "2025-06-30T01:16:44.187629Z"
    }
   },
   "cell_type": "code",
   "source": [
    "import os\n",
    "print(dir(os))\n",
    "# help(os)"
   ],
   "id": "4ab69582704e9b1",
   "outputs": [
    {
     "name": "stdout",
     "output_type": "stream",
     "text": [
      "['DirEntry', 'EX_OK', 'F_OK', 'GenericAlias', 'Mapping', 'MutableMapping', 'O_APPEND', 'O_BINARY', 'O_CREAT', 'O_EXCL', 'O_NOINHERIT', 'O_RANDOM', 'O_RDONLY', 'O_RDWR', 'O_SEQUENTIAL', 'O_SHORT_LIVED', 'O_TEMPORARY', 'O_TEXT', 'O_TRUNC', 'O_WRONLY', 'P_DETACH', 'P_NOWAIT', 'P_NOWAITO', 'P_OVERLAY', 'P_WAIT', 'PathLike', 'R_OK', 'SEEK_CUR', 'SEEK_END', 'SEEK_SET', 'TMP_MAX', 'W_OK', 'X_OK', '_AddedDllDirectory', '_Environ', '__all__', '__builtins__', '__doc__', '__file__', '__loader__', '__name__', '__package__', '__spec__', '_check_methods', '_execvpe', '_exists', '_exit', '_fspath', '_get_exports_list', '_walk_symlinks_as_files', '_wrap_close', 'abc', 'abort', 'access', 'add_dll_directory', 'altsep', 'chdir', 'chmod', 'close', 'closerange', 'cpu_count', 'curdir', 'defpath', 'device_encoding', 'devnull', 'dup', 'dup2', 'environ', 'error', 'execl', 'execle', 'execlp', 'execlpe', 'execv', 'execve', 'execvp', 'execvpe', 'extsep', 'fchmod', 'fdopen', 'fsdecode', 'fsencode', 'fspath', 'fstat', 'fsync', 'ftruncate', 'get_blocking', 'get_exec_path', 'get_handle_inheritable', 'get_inheritable', 'get_terminal_size', 'getcwd', 'getcwdb', 'getenv', 'getlogin', 'getpid', 'getppid', 'isatty', 'kill', 'lchmod', 'linesep', 'link', 'listdir', 'listdrives', 'listmounts', 'listvolumes', 'lseek', 'lstat', 'makedirs', 'mkdir', 'name', 'open', 'pardir', 'path', 'pathsep', 'pipe', 'popen', 'process_cpu_count', 'putenv', 'read', 'readlink', 'remove', 'removedirs', 'rename', 'renames', 'replace', 'rmdir', 'scandir', 'sep', 'set_blocking', 'set_handle_inheritable', 'set_inheritable', 'spawnl', 'spawnle', 'spawnv', 'spawnve', 'st', 'startfile', 'stat', 'stat_result', 'statvfs_result', 'strerror', 'supports_bytes_environ', 'supports_dir_fd', 'supports_effective_ids', 'supports_fd', 'supports_follow_symlinks', 'symlink', 'sys', 'system', 'terminal_size', 'times', 'times_result', 'truncate', 'umask', 'uname_result', 'unlink', 'unsetenv', 'urandom', 'utime', 'waitpid', 'waitstatus_to_exitcode', 'walk', 'write']\n"
     ]
    }
   ],
   "execution_count": 8
  },
  {
   "metadata": {
    "ExecuteTime": {
     "end_time": "2025-06-30T01:17:26.038651Z",
     "start_time": "2025-06-30T01:17:26.034851Z"
    }
   },
   "cell_type": "code",
   "source": [
    "import os\n",
    "print(os.cpu_count())\n",
    "from os import cpu_count\n",
    "print(cpu_count())\n",
    "from math import pi, tau, e\n",
    "print(pi, tau, e)\n",
    "from sys import *\n",
    "print(platform)"
   ],
   "id": "bda1767e51a42c0a",
   "outputs": [
    {
     "name": "stdout",
     "output_type": "stream",
     "text": [
      "8\n",
      "8\n",
      "3.141592653589793 6.283185307179586 2.718281828459045\n",
      "win32\n"
     ]
    }
   ],
   "execution_count": 9
  },
  {
   "metadata": {
    "ExecuteTime": {
     "end_time": "2025-06-30T01:34:22.701132Z",
     "start_time": "2025-06-30T01:34:22.698113Z"
    }
   },
   "cell_type": "code",
   "source": [
    "import module_a as a\n",
    "print(a.var)\n",
    "print(dir(a))\n",
    "print(a.__name__)"
   ],
   "id": "374d7c33dbd1ee92",
   "outputs": [
    {
     "name": "stdout",
     "output_type": "stream",
     "text": [
      "5\n",
      "['__builtins__', '__cached__', '__doc__', '__file__', '__loader__', '__name__', '__package__', '__spec__', 'var']\n",
      "module_a\n"
     ]
    }
   ],
   "execution_count": 17
  },
  {
   "metadata": {
    "ExecuteTime": {
     "end_time": "2025-06-30T01:35:27.267828Z",
     "start_time": "2025-06-30T01:35:27.265096Z"
    }
   },
   "cell_type": "code",
   "source": [
    "from module_a import var\n",
    "print(var)\n",
    "var = 6\n",
    "print(var)\n",
    "print(a.var)"
   ],
   "id": "676318b81f5f7569",
   "outputs": [
    {
     "name": "stdout",
     "output_type": "stream",
     "text": [
      "5\n",
      "6\n",
      "5\n"
     ]
    }
   ],
   "execution_count": 18
  }
 ],
 "metadata": {
  "kernelspec": {
   "display_name": "Python 3",
   "language": "python",
   "name": "python3"
  },
  "language_info": {
   "codemirror_mode": {
    "name": "ipython",
    "version": 2
   },
   "file_extension": ".py",
   "mimetype": "text/x-python",
   "name": "python",
   "nbconvert_exporter": "python",
   "pygments_lexer": "ipython2",
   "version": "2.7.6"
  }
 },
 "nbformat": 4,
 "nbformat_minor": 5
}
