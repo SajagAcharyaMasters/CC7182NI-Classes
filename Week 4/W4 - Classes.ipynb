{
 "cells": [
  {
   "cell_type": "code",
   "id": "initial_id",
   "metadata": {
    "collapsed": true,
    "ExecuteTime": {
     "end_time": "2025-06-29T01:42:54.263108Z",
     "start_time": "2025-06-29T01:42:54.257783Z"
    }
   },
   "source": [
    "class Jar:\n",
    "    cookie = 'choco' # member variable\n",
    "    chips = 'potato' # member variable\n",
    "    def has(): # member function / method of Jar\n",
    "        print('{0.cookie} cookies'.format(Jar))\n",
    "        print('{0.chips} chips'.format(Jar))\n",
    "    def has2(self): # member function / method of Jar\n",
    "        print('{0.cookie} cookies'.format(self))\n",
    "        print('{0.chips} chips'.format(self))\n",
    "print(Jar.cookie)\n",
    "print(Jar.chips)\n",
    "Jar.has()\n",
    "Jar.has2(Jar)"
   ],
   "outputs": [
    {
     "name": "stdout",
     "output_type": "stream",
     "text": [
      "choco\n",
      "potato\n",
      "choco cookies\n",
      "potato chips\n",
      "choco cookies\n",
      "potato chips\n"
     ]
    }
   ],
   "execution_count": 34
  },
  {
   "metadata": {
    "ExecuteTime": {
     "end_time": "2025-06-29T01:42:54.322224Z",
     "start_time": "2025-06-29T01:42:54.315173Z"
    }
   },
   "cell_type": "code",
   "source": [
    "j = Jar()\n",
    "print(j)\n",
    "print(j.cookie)\n",
    "j.chips = 'potato2'\n",
    "j.has2()\n",
    "Jar.has2(j)\n",
    "try:\n",
    "    j.has() # Because self is not given\n",
    "except TypeError as e:\n",
    "    print(e)"
   ],
   "id": "e2de9ca5017bbf5c",
   "outputs": [
    {
     "name": "stdout",
     "output_type": "stream",
     "text": [
      "<__main__.Jar object at 0x0000011A4CA702F0>\n",
      "choco\n",
      "choco cookies\n",
      "potato2 chips\n",
      "choco cookies\n",
      "potato2 chips\n",
      "Jar.has() takes 0 positional arguments but 1 was given\n"
     ]
    }
   ],
   "execution_count": 35
  },
  {
   "metadata": {
    "ExecuteTime": {
     "end_time": "2025-06-29T01:42:54.379317Z",
     "start_time": "2025-06-29T01:42:54.373033Z"
    }
   },
   "cell_type": "code",
   "source": [
    "class Car:\n",
    "    bar = 'static member variable'\n",
    "    def make_rar(self): # 🐍 snake_case\n",
    "        \"\"\"instance method has self as first argument\"\"\"\n",
    "        self.rar = 'instance member variable'\n",
    "print(Car.bar)\n",
    "try:\n",
    "    print(Car.rar) # WHY?\n",
    "except AttributeError as e:\n",
    "    print(e)\n",
    "c = Car(); print(c.bar) # static\n",
    "c.make_rar(); print(c.rar) # instance"
   ],
   "id": "7d15c559dc241a4a",
   "outputs": [
    {
     "name": "stdout",
     "output_type": "stream",
     "text": [
      "static member variable\n",
      "type object 'Car' has no attribute 'rar'\n",
      "static member variable\n",
      "instance member variable\n"
     ]
    }
   ],
   "execution_count": 36
  },
  {
   "metadata": {
    "ExecuteTime": {
     "end_time": "2025-06-29T01:42:54.416437Z",
     "start_time": "2025-06-29T01:42:54.410321Z"
    }
   },
   "cell_type": "code",
   "source": [
    "class Car:\n",
    "    bar = 'static member variable'\n",
    "c = Car()\n",
    "print(c.bar)\n",
    "print(Car.bar)\n",
    "Car.bar = 'new bar'\n",
    "print(Car.bar)\n",
    "print(c.bar)\n",
    "d = Car()\n",
    "print(d.bar)\n",
    "c.bar = 'bar 2'\n",
    "print(c.bar)\n",
    "print(Car.bar)\n",
    "Car.bar = 'new bar 3'\n",
    "print(c.bar)\n"
   ],
   "id": "aaf46a42611af0c4",
   "outputs": [
    {
     "name": "stdout",
     "output_type": "stream",
     "text": [
      "static member variable\n",
      "static member variable\n",
      "new bar\n",
      "new bar\n",
      "new bar\n",
      "bar 2\n",
      "new bar\n",
      "bar 2\n"
     ]
    }
   ],
   "execution_count": 37
  },
  {
   "metadata": {
    "ExecuteTime": {
     "end_time": "2025-06-29T01:42:54.465914Z",
     "start_time": "2025-06-29T01:42:54.461170Z"
    }
   },
   "cell_type": "code",
   "source": [
    "class Zoo:\n",
    "    bar = 'static member variable'\n",
    "    def __init__(self):\n",
    "        self.rar = 'instance member variable'\n",
    "    def show(self):\n",
    "        print(self.rar) # instance variable\n",
    "        print(self.bar) # static variable\n",
    "        print(Zoo.bar) # static variable\n",
    "z = Zoo()\n",
    "z.show()"
   ],
   "id": "5aac7dde8b72a11",
   "outputs": [
    {
     "name": "stdout",
     "output_type": "stream",
     "text": [
      "instance member variable\n",
      "static member variable\n",
      "static member variable\n"
     ]
    }
   ],
   "execution_count": 38
  },
  {
   "metadata": {
    "ExecuteTime": {
     "end_time": "2025-06-29T01:42:54.528725Z",
     "start_time": "2025-06-29T01:42:54.522587Z"
    }
   },
   "cell_type": "code",
   "source": [
    "class Car:\n",
    "    def __init__(self, a, b=2):\n",
    "        print(a, b)\n",
    "Car(1)\n",
    "Car(4, 5)"
   ],
   "id": "175bd98d1c94ed03",
   "outputs": [
    {
     "name": "stdout",
     "output_type": "stream",
     "text": [
      "1 2\n",
      "4 5\n"
     ]
    },
    {
     "data": {
      "text/plain": [
       "<__main__.Car at 0x11a4c9e0910>"
      ]
     },
     "execution_count": 39,
     "metadata": {},
     "output_type": "execute_result"
    }
   ],
   "execution_count": 39
  },
  {
   "metadata": {},
   "cell_type": "markdown",
   "source": [
    "## Callable\n",
    "Checks if the thing is callable"
   ],
   "id": "401e2c33caafdcf"
  },
  {
   "metadata": {
    "ExecuteTime": {
     "end_time": "2025-06-29T01:42:54.556400Z",
     "start_time": "2025-06-29T01:42:54.549079Z"
    }
   },
   "cell_type": "code",
   "source": [
    "def twice(x):\n",
    "    return x * 2\n",
    "class Square:\n",
    "    def __init__(self, length):\n",
    "        self.length = length\n",
    "    def area(self):\n",
    "        return self.length ** 2\n",
    "print(type(twice), callable(twice), twice(4))\n",
    "print(type(Square), callable(Square), s:=Square(4))\n",
    "print(type(s.area), callable(s.area), s.area())"
   ],
   "id": "c85a3d7103dc5b1e",
   "outputs": [
    {
     "name": "stdout",
     "output_type": "stream",
     "text": [
      "<class 'function'> True 8\n",
      "<class 'type'> True <__main__.Square object at 0x0000011A4C916900>\n",
      "<class 'method'> True 16\n"
     ]
    }
   ],
   "execution_count": 40
  },
  {
   "metadata": {
    "ExecuteTime": {
     "end_time": "2025-06-29T01:42:54.618052Z",
     "start_time": "2025-06-29T01:42:54.611893Z"
    }
   },
   "cell_type": "code",
   "source": [
    "def square(x):\n",
    "    return x * x\n",
    "print(callable(square))\n",
    "print(square(5))\n",
    "square = 5\n",
    "print(callable(square))"
   ],
   "id": "358b69e89f6a268b",
   "outputs": [
    {
     "name": "stdout",
     "output_type": "stream",
     "text": [
      "True\n",
      "25\n",
      "False\n"
     ]
    }
   ],
   "execution_count": 41
  },
  {
   "metadata": {
    "ExecuteTime": {
     "end_time": "2025-06-29T01:42:54.664585Z",
     "start_time": "2025-06-29T01:42:54.657837Z"
    }
   },
   "cell_type": "code",
   "source": [
    "def square(x):\n",
    "    return x ** 2\n",
    "print(square.__name__)\n",
    "foo = square\n",
    "print(foo.__name__) # original name\n",
    "print(id(foo), id(square))\n",
    "del square # remove source\n",
    "print(foo(5))"
   ],
   "id": "c49558e1d9d44058",
   "outputs": [
    {
     "name": "stdout",
     "output_type": "stream",
     "text": [
      "square\n",
      "square\n",
      "1212466121280 1212466121280\n",
      "25\n"
     ]
    }
   ],
   "execution_count": 42
  },
  {
   "metadata": {
    "ExecuteTime": {
     "end_time": "2025-06-29T01:42:54.736967Z",
     "start_time": "2025-06-29T01:42:54.731576Z"
    }
   },
   "cell_type": "code",
   "source": [
    "def for_each(func, lst):\n",
    "    output = []\n",
    "    for i, e in enumerate(lst):\n",
    "        output.append(func(e))\n",
    "    return 'for_each({}):'.format(func.__name__), output\n",
    "a = [0, 1, -2, 3.4]\n",
    "print(*for_each(abs, a))\n",
    "print(*for_each(int, a))"
   ],
   "id": "286c932b96596579",
   "outputs": [
    {
     "name": "stdout",
     "output_type": "stream",
     "text": [
      "for_each(abs): [0, 1, 2, 3.4]\n",
      "for_each(int): [0, 1, -2, 3]\n"
     ]
    }
   ],
   "execution_count": 43
  },
  {
   "metadata": {
    "ExecuteTime": {
     "end_time": "2025-06-29T01:42:54.761447Z",
     "start_time": "2025-06-29T01:42:54.756835Z"
    }
   },
   "cell_type": "code",
   "source": [
    "# passing custom function\n",
    "def twice(x):\n",
    "    return x * 2\n",
    "print(*map(twice, range(10)))"
   ],
   "id": "aaf6f8ae85c63b73",
   "outputs": [
    {
     "name": "stdout",
     "output_type": "stream",
     "text": [
      "0 2 4 6 8 10 12 14 16 18\n"
     ]
    }
   ],
   "execution_count": 44
  },
  {
   "metadata": {
    "ExecuteTime": {
     "end_time": "2025-06-29T01:42:54.798275Z",
     "start_time": "2025-06-29T01:42:54.793120Z"
    }
   },
   "cell_type": "code",
   "source": [
    "def twice(x):\n",
    "    return x * 2\n",
    "print(twice(5))\n",
    "print((lambda x: x*2)(5))"
   ],
   "id": "440dfa83cde1ce1e",
   "outputs": [
    {
     "name": "stdout",
     "output_type": "stream",
     "text": [
      "10\n",
      "10\n"
     ]
    }
   ],
   "execution_count": 45
  },
  {
   "metadata": {
    "ExecuteTime": {
     "end_time": "2025-06-29T01:43:12.323104Z",
     "start_time": "2025-06-29T01:43:12.318306Z"
    }
   },
   "cell_type": "code",
   "source": [
    "def f2c(far):\n",
    "    return (9/5) * far + 32\n",
    "def c2f(cel):\n",
    "    return (5/9) * (cel - 32)\n",
    "\n",
    "print(f2c(c2f(36.5)))"
   ],
   "id": "60ae253a191a942c",
   "outputs": [
    {
     "name": "stdout",
     "output_type": "stream",
     "text": [
      "36.5\n"
     ]
    }
   ],
   "execution_count": 47
  },
  {
   "metadata": {},
   "cell_type": "markdown",
   "source": "#### Wrap",
   "id": "cd1e3c3d97c9e93a"
  },
  {
   "metadata": {
    "ExecuteTime": {
     "end_time": "2025-06-29T01:44:53.186545Z",
     "start_time": "2025-06-29T01:44:53.181474Z"
    }
   },
   "cell_type": "code",
   "source": [
    "print('pow(2, 3):', pow(2, 3))\n",
    "try:\n",
    "    print(*map(pow, range(10)))\n",
    "except TypeError as e:\n",
    "    print(e)"
   ],
   "id": "8933fd4b5694cdd0",
   "outputs": [
    {
     "name": "stdout",
     "output_type": "stream",
     "text": [
      "pow(2, 3): 8\n",
      "pow() missing required argument 'exp' (pos 2)\n"
     ]
    }
   ],
   "execution_count": 48
  },
  {
   "metadata": {
    "ExecuteTime": {
     "end_time": "2025-06-29T01:45:21.544857Z",
     "start_time": "2025-06-29T01:45:21.540056Z"
    }
   },
   "cell_type": "code",
   "source": "print(list(map(lambda a: pow(a, 2), range(5))))",
   "id": "d5516fac0289404b",
   "outputs": [
    {
     "name": "stdout",
     "output_type": "stream",
     "text": [
      "[0, 1, 4, 9, 16]\n"
     ]
    }
   ],
   "execution_count": 49
  },
  {
   "metadata": {
    "ExecuteTime": {
     "end_time": "2025-06-29T01:45:53.667399Z",
     "start_time": "2025-06-29T01:45:53.662348Z"
    }
   },
   "cell_type": "code",
   "source": [
    "a = [0, 1, -2, 'three']\n",
    "print(list(map(lambda a: str(a)[0], a))) # first char\n",
    "print(list(map(lambda a: str(a)[::-1], a))) # reversed"
   ],
   "id": "ac513449adc69128",
   "outputs": [
    {
     "name": "stdout",
     "output_type": "stream",
     "text": [
      "['0', '1', '-', 't']\n",
      "['0', '1', '2-', 'eerht']\n"
     ]
    }
   ],
   "execution_count": 50
  },
  {
   "metadata": {
    "ExecuteTime": {
     "end_time": "2025-06-29T01:49:39.241402Z",
     "start_time": "2025-06-29T01:49:39.235689Z"
    }
   },
   "cell_type": "code",
   "source": [
    "print(sorted([3, 1, 4, 2, 8]))\n",
    "d = {'first' : 1, 'last': 26}\n",
    "print(sorted(d))\n",
    "print(sorted(d.items(), key=lambda k: k[1], reverse=True))"
   ],
   "id": "76156ad5ce242e8d",
   "outputs": [
    {
     "name": "stdout",
     "output_type": "stream",
     "text": [
      "[1, 2, 3, 4, 8]\n",
      "['first', 'last']\n",
      "[('first', 1), ('last', 26)]\n"
     ]
    }
   ],
   "execution_count": 55
  }
 ],
 "metadata": {
  "kernelspec": {
   "display_name": "Python 3",
   "language": "python",
   "name": "python3"
  },
  "language_info": {
   "codemirror_mode": {
    "name": "ipython",
    "version": 2
   },
   "file_extension": ".py",
   "mimetype": "text/x-python",
   "name": "python",
   "nbconvert_exporter": "python",
   "pygments_lexer": "ipython2",
   "version": "2.7.6"
  }
 },
 "nbformat": 4,
 "nbformat_minor": 5
}
