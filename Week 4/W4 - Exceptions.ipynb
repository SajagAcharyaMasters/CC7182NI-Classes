{
 "cells": [
  {
   "cell_type": "code",
   "id": "initial_id",
   "metadata": {
    "collapsed": true,
    "ExecuteTime": {
     "end_time": "2025-06-29T02:36:02.681169Z",
     "start_time": "2025-06-29T02:36:02.675396Z"
    }
   },
   "source": [
    "import traceback\n",
    "def a(x, y):\n",
    "    def b():\n",
    "        return x/y\n",
    "    b()\n",
    "try:\n",
    "    a(1, 0)\n",
    "except Exception:\n",
    "    traceback.print_exc()"
   ],
   "outputs": [
    {
     "name": "stderr",
     "output_type": "stream",
     "text": [
      "Traceback (most recent call last):\n",
      "  File \"C:\\Users\\Sajag\\AppData\\Local\\Temp\\ipykernel_2960\\1705450472.py\", line 7, in <module>\n",
      "    a(1, 0)\n",
      "    ~^^^^^^\n",
      "  File \"C:\\Users\\Sajag\\AppData\\Local\\Temp\\ipykernel_2960\\1705450472.py\", line 5, in a\n",
      "    b()\n",
      "    ~^^\n",
      "  File \"C:\\Users\\Sajag\\AppData\\Local\\Temp\\ipykernel_2960\\1705450472.py\", line 4, in b\n",
      "    return x/y\n",
      "           ~^~\n",
      "ZeroDivisionError: division by zero\n"
     ]
    }
   ],
   "execution_count": 1
  },
  {
   "metadata": {
    "ExecuteTime": {
     "end_time": "2025-06-29T02:56:29.564581Z",
     "start_time": "2025-06-29T02:56:29.559693Z"
    }
   },
   "cell_type": "code",
   "source": [
    "def get_one(iterator):\n",
    "    try:\n",
    "        print(f'{iterator}: ', end='')\n",
    "        return iterator[1]\n",
    "    except (IndexError, KeyError) as e:\n",
    "        return f'{type(e).__name__}: {e}'\n",
    "    # except KeyError as e:\n",
    "    #     print(f'- KeyError -\\nKey: {e}')\n",
    "    # except IndexError as e:\n",
    "    #     print(f'- IndexError -\\nKey: {e}')\n",
    "\n",
    "print(get_one('exception'))\n",
    "print(get_one({1: 'one'}))\n",
    "print(get_one([0, 1]))\n",
    "print(get_one({}))\n",
    "print(get_one(''))\n",
    "print(get_one([1]))"
   ],
   "id": "58604e8040f80713",
   "outputs": [
    {
     "name": "stdout",
     "output_type": "stream",
     "text": [
      "exception: x\n",
      "{1: 'one'}: one\n",
      "[0, 1]: 1\n",
      "{}: KeyError: 1\n",
      ": IndexError: string index out of range\n",
      "[1]: IndexError: list index out of range\n"
     ]
    }
   ],
   "execution_count": 18
  },
  {
   "metadata": {
    "ExecuteTime": {
     "end_time": "2025-06-29T02:57:50.460891Z",
     "start_time": "2025-06-29T02:57:50.252077Z"
    }
   },
   "cell_type": "code",
   "source": [
    "raise Exception('description here')\n",
    "raise RuntimeError('description here')\n",
    "raise Warning('description here')\n",
    "raise ValueError()\n",
    "raise TypeError()\n",
    "raise NameError('HiThere')"
   ],
   "id": "3766de7c8f1dc3c4",
   "outputs": [
    {
     "ename": "Exception",
     "evalue": "description here",
     "output_type": "error",
     "traceback": [
      "\u001B[31m---------------------------------------------------------------------------\u001B[39m",
      "\u001B[31mException\u001B[39m                                 Traceback (most recent call last)",
      "\u001B[36mCell\u001B[39m\u001B[36m \u001B[39m\u001B[32mIn[19]\u001B[39m\u001B[32m, line 1\u001B[39m\n\u001B[32m----> \u001B[39m\u001B[32m1\u001B[39m \u001B[38;5;28;01mraise\u001B[39;00m \u001B[38;5;167;01mException\u001B[39;00m(\u001B[33m'\u001B[39m\u001B[33mdescription here\u001B[39m\u001B[33m'\u001B[39m)\n\u001B[32m      2\u001B[39m \u001B[38;5;28;01mraise\u001B[39;00m \u001B[38;5;167;01mRuntimeError\u001B[39;00m(\u001B[33m'\u001B[39m\u001B[33mdescription here\u001B[39m\u001B[33m'\u001B[39m)\n\u001B[32m      3\u001B[39m \u001B[38;5;28;01mraise\u001B[39;00m \u001B[38;5;167;01mWarning\u001B[39;00m(\u001B[33m'\u001B[39m\u001B[33mdescription here\u001B[39m\u001B[33m'\u001B[39m)\n",
      "\u001B[31mException\u001B[39m: description here"
     ]
    }
   ],
   "execution_count": 19
  },
  {
   "metadata": {
    "ExecuteTime": {
     "end_time": "2025-06-29T02:59:54.743984Z",
     "start_time": "2025-06-29T02:59:54.738467Z"
    }
   },
   "cell_type": "code",
   "source": [
    "import traceback\n",
    "def divide_secure(number, divisor):\n",
    "    assert divisor != 0, 'Divided a number by zero!'\n",
    "    return number / divisor\n",
    "print(divide_secure(10, 2))\n",
    "try:\n",
    "    print(divide_secure(10, 0))\n",
    "except AssertionError as e:\n",
    "    traceback.print_exc()\n",
    "    print(e)"
   ],
   "id": "71962ba683dfb8f3",
   "outputs": [
    {
     "name": "stdout",
     "output_type": "stream",
     "text": [
      "5.0\n",
      "Divided a number by zero!\n"
     ]
    },
    {
     "name": "stderr",
     "output_type": "stream",
     "text": [
      "Traceback (most recent call last):\n",
      "  File \"C:\\Users\\Sajag\\AppData\\Local\\Temp\\ipykernel_2960\\2953782307.py\", line 7, in <module>\n",
      "    print(divide_secure(10, 0))\n",
      "          ~~~~~~~~~~~~~^^^^^^^\n",
      "  File \"C:\\Users\\Sajag\\AppData\\Local\\Temp\\ipykernel_2960\\2953782307.py\", line 3, in divide_secure\n",
      "    assert divisor != 0, 'Divided a number by zero!'\n",
      "           ^^^^^^^^^^^^\n",
      "AssertionError: Divided a number by zero!\n"
     ]
    }
   ],
   "execution_count": 20
  }
 ],
 "metadata": {
  "kernelspec": {
   "display_name": "Python 3",
   "language": "python",
   "name": "python3"
  },
  "language_info": {
   "codemirror_mode": {
    "name": "ipython",
    "version": 2
   },
   "file_extension": ".py",
   "mimetype": "text/x-python",
   "name": "python",
   "nbconvert_exporter": "python",
   "pygments_lexer": "ipython2",
   "version": "2.7.6"
  }
 },
 "nbformat": 4,
 "nbformat_minor": 5
}
