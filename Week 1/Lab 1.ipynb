{
 "cells": [
  {
   "metadata": {},
   "cell_type": "raw",
   "source": "Lab 1",
   "id": "135081555570a0d4"
  },
  {
   "metadata": {},
   "cell_type": "markdown",
   "source": "#### Math library",
   "id": "20eda4776db10ead"
  },
  {
   "metadata": {
    "ExecuteTime": {
     "end_time": "2025-06-09T02:10:54.184302Z",
     "start_time": "2025-06-09T02:10:50.958882Z"
    }
   },
   "cell_type": "code",
   "source": [
    "import math\n",
    "variable = input('Enter radius: ')\n",
    "radius = float(variable)\n",
    "area = math.pi * radius ** 2\n",
    "print('Area of circle is', area)"
   ],
   "id": "cd502211a796521a",
   "outputs": [
    {
     "name": "stdout",
     "output_type": "stream",
     "text": [
      "Area of circle is 78.53981633974483\n"
     ]
    }
   ],
   "execution_count": 47
  },
  {
   "metadata": {},
   "cell_type": "markdown",
   "source": "#### Factorial",
   "id": "6cbac936892466c6"
  },
  {
   "metadata": {
    "ExecuteTime": {
     "end_time": "2025-06-09T01:17:27.156292Z",
     "start_time": "2025-06-09T01:17:27.151286Z"
    }
   },
   "cell_type": "code",
   "source": [
    "for i in range(ord('A'), ord('Z') + 1):\n",
    "    char = chr(i)\n",
    "    print(char, char.lower(), sep=\"\", end=' ')"
   ],
   "id": "aa99e8bb15a1262",
   "outputs": [
    {
     "name": "stdout",
     "output_type": "stream",
     "text": [
      "Aa Bb Cc Dd Ee Ff Gg Hh Ii Jj Kk Ll Mm Nn Oo Pp Qq Rr Ss Tt Uu Vv Ww Xx Yy Zz "
     ]
    }
   ],
   "execution_count": 15
  },
  {
   "metadata": {},
   "cell_type": "markdown",
   "source": "#### Place power of number",
   "id": "b9fec6673b9d87a3"
  },
  {
   "metadata": {
    "ExecuteTime": {
     "end_time": "2025-06-09T01:14:51.122875Z",
     "start_time": "2025-06-09T01:14:47.835517Z"
    }
   },
   "cell_type": "code",
   "source": [
    "inp = input('Enter number:')\n",
    "for i, c in enumerate(reversed(inp)):\n",
    "    num = int(c)\n",
    "    place = 10 ** i\n",
    "    print(num, place, num * place, sep='\\t')"
   ],
   "id": "633af24aa37a932d",
   "outputs": [
    {
     "name": "stdout",
     "output_type": "stream",
     "text": [
      "1\t1\t1\n",
      "6\t10\t60\n",
      "3\t100\t300\n"
     ]
    }
   ],
   "execution_count": 7
  },
  {
   "metadata": {},
   "cell_type": "markdown",
   "source": "### Fibonacci Series",
   "id": "dc5ef2f769712e6e"
  },
  {
   "metadata": {
    "ExecuteTime": {
     "end_time": "2025-06-09T01:30:20.162720Z",
     "start_time": "2025-06-09T01:30:17.707904Z"
    }
   },
   "cell_type": "code",
   "source": [
    "a, b = 0, 1\n",
    "n = int(input('Enter how many fibonacci numbers:'))\n",
    "print(a, end=' ')\n",
    "for i in range(n):\n",
    "    print(b, end=' ')\n",
    "    t = a + b\n",
    "    a, b = b, t"
   ],
   "id": "ffb02bf0b07b5c8",
   "outputs": [
    {
     "name": "stdout",
     "output_type": "stream",
     "text": [
      "0 1 1 2 3 5 8 13 21 34 55 89 144 233 "
     ]
    }
   ],
   "execution_count": 19
  },
  {
   "metadata": {},
   "cell_type": "markdown",
   "source": "### Count type of char",
   "id": "b8af5f73bfae4d65"
  },
  {
   "metadata": {
    "ExecuteTime": {
     "end_time": "2025-06-09T01:40:22.742367Z",
     "start_time": "2025-06-09T01:40:03.053649Z"
    }
   },
   "cell_type": "code",
   "source": [
    "s = input('Enter phrase:')\n",
    "a = n = o = 0\n",
    "for i, c in enumerate(s):\n",
    "    if c.isdigit(): # 'If' is not taught yet lol\n",
    "        n += 1\n",
    "    elif c.isalpha():\n",
    "        a += 1\n",
    "    else:\n",
    "        o += 1\n",
    "print(s)\n",
    "print('Alphabets:', a)\n",
    "print('Numbers:', n)\n",
    "print('Others:', o)"
   ],
   "id": "b21f531939676430",
   "outputs": [
    {
     "name": "stdout",
     "output_type": "stream",
     "text": [
      "Potatoes are very tasty for Rs.50\n",
      "Alphabets: 25\n",
      "Numbers: 2\n",
      "Others: 6\n"
     ]
    }
   ],
   "execution_count": 21
  },
  {
   "metadata": {
    "ExecuteTime": {
     "end_time": "2025-06-09T01:46:26.230839Z",
     "start_time": "2025-06-09T01:46:12.299808Z"
    }
   },
   "cell_type": "code",
   "source": [
    "s = input('Enter phrase:')\n",
    "a = n = 0\n",
    "for i, c in enumerate(s):\n",
    "    n += c.isdigit()\n",
    "    a += c.isalpha()\n",
    "print(s)\n",
    "print('Alphabets:', a)\n",
    "print('Numbers:', n)\n",
    "print('Others:', len(s) - a - n)"
   ],
   "id": "2ce6d38e22e301ae",
   "outputs": [
    {
     "name": "stdout",
     "output_type": "stream",
     "text": [
      "Potatoes are very tasty for Rs.50\n",
      "Alphabets: 25\n",
      "Numbers: 2\n",
      "Others: 6\n"
     ]
    }
   ],
   "execution_count": 22
  },
  {
   "metadata": {},
   "cell_type": "markdown",
   "source": "# Strings",
   "id": "518350e692996f5f"
  },
  {
   "metadata": {
    "ExecuteTime": {
     "end_time": "2025-06-09T01:48:38.813256Z",
     "start_time": "2025-06-09T01:48:38.808376Z"
    }
   },
   "cell_type": "code",
   "source": [
    "print('\\u0915')\n",
    "print('\\N{SNAKE}')\n",
    "print('\\N{SNOWMAN}')"
   ],
   "id": "e2baaa7e011569a7",
   "outputs": [
    {
     "name": "stdout",
     "output_type": "stream",
     "text": [
      "क\n",
      "🐍\n",
      "☃\n"
     ]
    }
   ],
   "execution_count": 24
  },
  {
   "metadata": {},
   "cell_type": "markdown",
   "source": [
    "### Devanagari chars\n",
    "ज्ञ and stuff are composite, so doesn't work in loop"
   ],
   "id": "a69eb9c94c918add"
  },
  {
   "metadata": {
    "ExecuteTime": {
     "end_time": "2025-06-09T01:54:19.711747Z",
     "start_time": "2025-06-09T01:54:19.706012Z"
    }
   },
   "cell_type": "code",
   "source": [
    "for i, c in enumerate(range(ord('क'), ord('ह') + 1)):\n",
    "    char = chr(c)\n",
    "    print(char, end='\\t')\n",
    "    if (i + 1) % 5 == 0:\n",
    "        print()"
   ],
   "id": "84c76ba530d64dd8",
   "outputs": [
    {
     "name": "stdout",
     "output_type": "stream",
     "text": [
      "क\tख\tग\tघ\tङ\t\n",
      "च\tछ\tज\tझ\tञ\t\n",
      "ट\tठ\tड\tढ\tण\t\n",
      "त\tथ\tद\tध\tन\t\n",
      "ऩ\tप\tफ\tब\tभ\t\n",
      "म\tय\tर\tऱ\tल\t\n",
      "ळ\tऴ\tव\tश\tष\t\n",
      "स\tह\t"
     ]
    }
   ],
   "execution_count": 33
  },
  {
   "metadata": {},
   "cell_type": "markdown",
   "source": "### Formatting strings",
   "id": "c90d32d0e5c28ac4"
  },
  {
   "metadata": {
    "ExecuteTime": {
     "end_time": "2025-06-09T02:02:06.076578Z",
     "start_time": "2025-06-09T02:02:06.071802Z"
    }
   },
   "cell_type": "code",
   "source": [
    "print('using {} version {}'.format('Python', 3.11))\n",
    "print('using {1} version {0}'.format(3.11, 'Python'))\n",
    "\n",
    "print('{:.4f}'.format(3.12))  # Show 4 floating nums\n",
    "print('{:.1f}'.format(3.12))  # Show 1 floating num\n",
    "print('{:05}'.format(3.1))  # Add 0s ahead of num until 5 digits\n",
    "\n",
    "print('using {1} version {0:05.1f}'.format(3.131, 'Python'))"
   ],
   "id": "3a627a7a59c0637e",
   "outputs": [
    {
     "name": "stdout",
     "output_type": "stream",
     "text": [
      "using Python version 3.11\n",
      "using Python version 3.11\n",
      "3.1200\n",
      "3.1\n",
      "003.1\n",
      "using Python version 003.1\n"
     ]
    }
   ],
   "execution_count": 40
  },
  {
   "metadata": {},
   "cell_type": "markdown",
   "source": "### Multiplication table",
   "id": "4140b29931091dae"
  },
  {
   "metadata": {
    "ExecuteTime": {
     "end_time": "2025-06-09T02:11:55.168900Z",
     "start_time": "2025-06-09T02:11:52.728412Z"
    }
   },
   "cell_type": "code",
   "source": [
    "n = int(input('Enter a number:'))\n",
    "for i in range(1, 11):\n",
    "    print('{:02} X {:02} = {:3}'.format(i, n, n * i))"
   ],
   "id": "6948d597a867cc4c",
   "outputs": [
    {
     "name": "stdout",
     "output_type": "stream",
     "text": [
      "01 X 12 =  12\n",
      "02 X 12 =  24\n",
      "03 X 12 =  36\n",
      "04 X 12 =  48\n",
      "05 X 12 =  60\n",
      "06 X 12 =  72\n",
      "07 X 12 =  84\n",
      "08 X 12 =  96\n",
      "09 X 12 = 108\n",
      "10 X 12 = 120\n"
     ]
    }
   ],
   "execution_count": 49
  },
  {
   "metadata": {},
   "cell_type": "markdown",
   "source": "#### Operations",
   "id": "943c632504684034"
  },
  {
   "metadata": {
    "ExecuteTime": {
     "end_time": "2025-06-09T02:14:03.940766Z",
     "start_time": "2025-06-09T02:14:03.936143Z"
    }
   },
   "cell_type": "code",
   "source": [
    "py = 'Python'\n",
    "for i in range(4):\n",
    "    print(py * i)"
   ],
   "id": "f82718a1ac17b362",
   "outputs": [
    {
     "name": "stdout",
     "output_type": "stream",
     "text": [
      "\n",
      "Python\n",
      "PythonPython\n",
      "PythonPythonPython\n"
     ]
    }
   ],
   "execution_count": 51
  },
  {
   "metadata": {
    "ExecuteTime": {
     "end_time": "2025-06-09T02:15:24.335214Z",
     "start_time": "2025-06-09T02:15:24.330579Z"
    }
   },
   "cell_type": "code",
   "source": [
    "c = ' *'\n",
    "for i in range(6):\n",
    "    print(c * i)"
   ],
   "id": "800bce271e17f47b",
   "outputs": [
    {
     "name": "stdout",
     "output_type": "stream",
     "text": [
      "\n",
      " *\n",
      " * *\n",
      " * * *\n",
      " * * * *\n",
      " * * * * *\n"
     ]
    }
   ],
   "execution_count": 54
  },
  {
   "metadata": {},
   "cell_type": "markdown",
   "source": "#### count and multiline",
   "id": "cc7443383df5ed42"
  },
  {
   "metadata": {
    "ExecuteTime": {
     "end_time": "2025-06-09T02:17:52.013061Z",
     "start_time": "2025-06-09T02:17:52.007743Z"
    }
   },
   "cell_type": "code",
   "source": [
    "s = (\n",
    "'You need a programming language to program a program,\\n'\n",
    "'How do you program a programming language to program,\\n'\n",
    "'a program to program programs ?'\n",
    ")\n",
    "print(s)\n",
    "print(len(s))\n",
    "print(s.count('a')) # single char\n",
    "print(s.count('program')) # multi char\n"
   ],
   "id": "aae381578e12c6b7",
   "outputs": [
    {
     "name": "stdout",
     "output_type": "stream",
     "text": [
      "You need a programming language to program a program,\n",
      "How do you program a programming language to program,\n",
      "a program to program programs ?\n",
      "139\n",
      "17\n",
      "9\n"
     ]
    }
   ],
   "execution_count": 57
  },
  {
   "metadata": {},
   "cell_type": "markdown",
   "source": "#### vowel counter",
   "id": "b5af9e5488861769"
  },
  {
   "metadata": {
    "ExecuteTime": {
     "end_time": "2025-06-09T02:23:42.357033Z",
     "start_time": "2025-06-09T02:23:27.300875Z"
    }
   },
   "cell_type": "code",
   "source": [
    "s = input('Enter word:').lower()\n",
    "print(s.count('a') + s.count('e') + s.count('i') + s.count('o') + s.count('u'))"
   ],
   "id": "146577c6b15aa149",
   "outputs": [
    {
     "name": "stdout",
     "output_type": "stream",
     "text": [
      "6\n"
     ]
    }
   ],
   "execution_count": 62
  },
  {
   "metadata": {},
   "cell_type": "markdown",
   "source": "### Types of string",
   "id": "1972d5e8f4da8e9f"
  },
  {
   "metadata": {
    "ExecuteTime": {
     "end_time": "2025-06-09T02:25:42.354422Z",
     "start_time": "2025-06-09T02:25:42.349195Z"
    }
   },
   "cell_type": "code",
   "source": [
    "print('क') # unicode\n",
    "print(r'he\\t\\nllo\\n') # raw form\n",
    "print(b'hello') # bytes stream"
   ],
   "id": "a7dbd792df6fc36d",
   "outputs": [
    {
     "name": "stdout",
     "output_type": "stream",
     "text": [
      "क\n",
      "he\\t\\nllo\\n\n",
      "b'hello'\n"
     ]
    }
   ],
   "execution_count": 63
  },
  {
   "metadata": {
    "ExecuteTime": {
     "end_time": "2025-06-09T02:26:41.996883Z",
     "start_time": "2025-06-09T02:26:41.991970Z"
    }
   },
   "cell_type": "code",
   "source": [
    "print('C:\\some\\new\\path') # here \\n means newline!\n",
    "print('C:\\\\fix\\\\with\\\\escape\\\\sequence') # normal fix\n",
    "print(r'C:\\fix\\with\\raw') # note the r before the quote\n"
   ],
   "id": "76b2d629abbf9632",
   "outputs": [
    {
     "name": "stdout",
     "output_type": "stream",
     "text": [
      "C:\\some\n",
      "ew\\path\n",
      "C:\\fix\\with\\escape\\sequence\n",
      "C:\\fix\\with\\raw\n"
     ]
    },
    {
     "name": "stderr",
     "output_type": "stream",
     "text": [
      "<>:1: SyntaxWarning: invalid escape sequence '\\s'\n",
      "<>:1: SyntaxWarning: invalid escape sequence '\\s'\n",
      "C:\\Users\\Sajag\\AppData\\Local\\Temp\\ipykernel_16524\\509058467.py:1: SyntaxWarning: invalid escape sequence '\\s'\n",
      "  print('C:\\some\\new\\path') # here \\n means newline!\n"
     ]
    }
   ],
   "execution_count": 64
  },
  {
   "metadata": {
    "ExecuteTime": {
     "end_time": "2025-06-09T02:27:37.325761Z",
     "start_time": "2025-06-09T02:27:37.321306Z"
    }
   },
   "cell_type": "code",
   "source": [
    "single = '🥇 can contain \"double\" quote'; print(single)\n",
    "double = \"🥈 can contain 'single' quote\"; print(double)\n",
    "triple = \"\"\"🥉 can contain multi-line which can contain\n",
    "'single' or \"double\" quotes and triple single '''\n",
    "\"\"\"\n",
    "print(triple)\n",
    "print(''' wrapped in \"\"\"single\"\"\" quote ''')"
   ],
   "id": "6d3d40b5766ebe19",
   "outputs": [
    {
     "name": "stdout",
     "output_type": "stream",
     "text": [
      "🥇 can contain \"double\" quote\n",
      "🥈 can contain 'single' quote\n",
      "🥉 can contain multi-line which can contain\n",
      "'single' or \"double\" quotes and triple single '''\n",
      "\n",
      " wrapped in \"\"\"single\"\"\" quote \n"
     ]
    }
   ],
   "execution_count": 65
  },
  {
   "metadata": {},
   "cell_type": "markdown",
   "source": "# Conditionals",
   "id": "cdf0388a0f682de9"
  },
  {
   "metadata": {
    "ExecuteTime": {
     "end_time": "2025-06-09T02:31:07.100265Z",
     "start_time": "2025-06-09T02:31:07.095080Z"
    }
   },
   "cell_type": "code",
   "source": [
    "if 1 == 1.0: # True\n",
    "    print('Yes')\n",
    "else:\n",
    "    print('No')"
   ],
   "id": "b1ee3aa1b40c844a",
   "outputs": [
    {
     "name": "stdout",
     "output_type": "stream",
     "text": [
      "Yes\n"
     ]
    }
   ],
   "execution_count": 67
  },
  {
   "metadata": {},
   "cell_type": "markdown",
   "source": "### Even or odd",
   "id": "3d6b260fff681509"
  },
  {
   "metadata": {
    "ExecuteTime": {
     "end_time": "2025-06-09T02:36:09.264073Z",
     "start_time": "2025-06-09T02:36:05.589769Z"
    }
   },
   "cell_type": "code",
   "source": [
    "n = int(input('Enter a number:'))\n",
    "if n % 2: # 0 is False\n",
    "    print('{} is odd'.format(n))\n",
    "else:\n",
    "    print('{} is even'.format(n))\n",
    "\n",
    "print('odd' if n % 2 else 'even')"
   ],
   "id": "dc1506ac7b788ef2",
   "outputs": [
    {
     "name": "stdout",
     "output_type": "stream",
     "text": [
      "5 is odd\n",
      "odd\n"
     ]
    }
   ],
   "execution_count": 73
  },
  {
   "metadata": {},
   "cell_type": "markdown",
   "source": [
    "#### Calculate the division\n",
    "<33: fail; 33-60: 2nd; 60-80: 1st; >80: distinction"
   ],
   "id": "b16f3331b7a29d4f"
  },
  {
   "metadata": {
    "ExecuteTime": {
     "end_time": "2025-06-09T02:45:42.131644Z",
     "start_time": "2025-06-09T02:45:42.127893Z"
    }
   },
   "cell_type": "code",
   "source": [
    "x = 12\n",
    "print(3 <= x <= 10)"
   ],
   "id": "b48ca43208a89adc",
   "outputs": [
    {
     "name": "stdout",
     "output_type": "stream",
     "text": [
      "False\n"
     ]
    }
   ],
   "execution_count": 82
  },
  {
   "metadata": {
    "ExecuteTime": {
     "end_time": "2025-06-09T02:46:05.655286Z",
     "start_time": "2025-06-09T02:46:05.648960Z"
    }
   },
   "cell_type": "code",
   "source": [
    "subjects = ['Math', 'Science', 'Computer', 'Social studies', 'Nepali']\n",
    "marks = [80, 77, 95, 55, 32]\n",
    "\n",
    "for i, subject in enumerate(subjects):\n",
    "    m = marks[i]\n",
    "    if m < 33: div = 'Fail'\n",
    "    elif m < 60: div = '2nd division'\n",
    "    elif m < 80: div = '1st division'\n",
    "    else: div = 'Distinction'\n",
    "    print('{} with {}% is {}.'.format(subject, m, div))\n"
   ],
   "id": "35bc6d80666c3aa2",
   "outputs": [
    {
     "name": "stdout",
     "output_type": "stream",
     "text": [
      "Math with 80% is Distinction.\n",
      "Science with 77% is 1st division.\n",
      "Computer with 95% is Distinction.\n",
      "Social studies with 55% is 2nd division.\n",
      "Nepali with 32% is Fail.\n"
     ]
    }
   ],
   "execution_count": 83
  },
  {
   "metadata": {},
   "cell_type": "markdown",
   "source": "### Count Letter frequency",
   "id": "43b437ccd414c514"
  },
  {
   "metadata": {
    "ExecuteTime": {
     "end_time": "2025-06-15T01:30:45.529454Z",
     "start_time": "2025-06-15T01:30:45.518360Z"
    }
   },
   "cell_type": "code",
   "source": [
    "import string\n",
    "# GIVEN:\n",
    "print(*string.ascii_lowercase)\n",
    "count = [0] * 26 # similar like in string\n",
    "count[1] = 5 # changing the value"
   ],
   "id": "b19dab404e3c6f59",
   "outputs": [
    {
     "name": "stdout",
     "output_type": "stream",
     "text": [
      "a b c d e f g h i j k l m n o p q r s t u v w x y z\n"
     ]
    }
   ],
   "execution_count": 1
  },
  {
   "metadata": {},
   "cell_type": "markdown",
   "source": "Q: the quick brown fox jumps over the lazy dog",
   "id": "98c0002214f41360"
  },
  {
   "metadata": {
    "ExecuteTime": {
     "end_time": "2025-06-09T16:39:54.470680Z",
     "start_time": "2025-06-09T16:39:54.467322Z"
    }
   },
   "cell_type": "code",
   "source": [
    "a = ord('a')\n",
    "str_in = 'the quick brown fox jumps over the lazy dog'\n",
    "count = [0] * 26\n",
    "for i in str_in:\n",
    "    index = ord(i.lower()) - a\n",
    "    if 0 <= index < 26: count[index] += 1\n",
    "print(*string.ascii_lowercase)\n",
    "print(*count)"
   ],
   "id": "8c1886b8c2a80d0c",
   "outputs": [
    {
     "name": "stdout",
     "output_type": "stream",
     "text": [
      "a b c d e f g h i j k l m n o p q r s t u v w x y z\n",
      "1 1 1 1 3 1 1 2 1 1 1 1 1 1 4 1 1 2 1 2 2 1 1 1 1 1\n"
     ]
    }
   ],
   "execution_count": 4
  },
  {
   "metadata": {},
   "cell_type": "markdown",
   "source": "### Patterns",
   "id": "6461bde5210e7a84"
  },
  {
   "metadata": {
    "ExecuteTime": {
     "end_time": "2025-06-15T01:33:38.985679Z",
     "start_time": "2025-06-15T01:33:38.980345Z"
    }
   },
   "cell_type": "code",
   "source": [
    "for i in range(5):\n",
    "    for j in range(5):\n",
    "        print('*' if i <= j else ' ', end=' ')\n",
    "    print()"
   ],
   "id": "bfb675538dd28ec7",
   "outputs": [
    {
     "name": "stdout",
     "output_type": "stream",
     "text": [
      "* * * * * \n",
      "  * * * * \n",
      "    * * * \n",
      "      * * \n",
      "        * \n"
     ]
    }
   ],
   "execution_count": 12
  },
  {
   "metadata": {
    "ExecuteTime": {
     "end_time": "2025-06-15T01:30:46.896595Z",
     "start_time": "2025-06-15T01:30:46.882641Z"
    }
   },
   "cell_type": "code",
   "source": [
    "# Inverted triangle\n",
    "# for i in range(5, 0, -1):\n",
    "#     print('  ' * (5 - i), '* ' * i)\n",
    "for i in range(5):\n",
    "    print('  ' * i, '* ' * (5 - i))"
   ],
   "id": "bf271937a187c483",
   "outputs": [
    {
     "name": "stdout",
     "output_type": "stream",
     "text": [
      " * * * * * \n",
      "   * * * * \n",
      "     * * * \n",
      "       * * \n",
      "         * \n"
     ]
    }
   ],
   "execution_count": 3
  },
  {
   "metadata": {
    "ExecuteTime": {
     "end_time": "2025-06-09T16:56:52.961464Z",
     "start_time": "2025-06-09T16:56:52.958605Z"
    }
   },
   "cell_type": "code",
   "source": [
    "# X Pattern using arrays\n",
    "n = 5\n",
    "for i in range(n):\n",
    "    line = [' '] * n\n",
    "    line[i] = line[n - 1 - i] = '*'\n",
    "    print(*line)"
   ],
   "id": "23d76a0b6feb6e46",
   "outputs": [
    {
     "name": "stdout",
     "output_type": "stream",
     "text": [
      "*       *\n",
      "  *   *  \n",
      "    *    \n",
      "  *   *  \n",
      "*       *\n"
     ]
    }
   ],
   "execution_count": 23
  },
  {
   "metadata": {
    "ExecuteTime": {
     "end_time": "2025-06-09T17:10:46.046344Z",
     "start_time": "2025-06-09T17:10:46.043083Z"
    }
   },
   "cell_type": "code",
   "source": [
    "# X Pattern without using arrays\n",
    "n = 5\n",
    "for i in range(n):\n",
    "    for j in range(n):\n",
    "        print('*' if j == i or j == n - 1 - i else ' ', end=' ')\n",
    "    print()\n"
   ],
   "id": "dd32b6f0fb613e99",
   "outputs": [
    {
     "name": "stdout",
     "output_type": "stream",
     "text": [
      "*       * \n",
      "  *   *   \n",
      "    *     \n",
      "  *   *   \n",
      "*       * \n"
     ]
    }
   ],
   "execution_count": 33
  },
  {
   "metadata": {
    "ExecuteTime": {
     "end_time": "2025-06-09T17:01:01.571508Z",
     "start_time": "2025-06-09T17:01:01.567979Z"
    }
   },
   "cell_type": "code",
   "source": [
    "# Z pattern\n",
    "n = 5\n",
    "for i in range(n):\n",
    "    if i == 0 or i == n - 1: line = '*' * n\n",
    "    else:\n",
    "        line = [' '] * n\n",
    "        line[n - 1 - i] = '*'\n",
    "    print(*line)"
   ],
   "id": "4f16593a3f9b327e",
   "outputs": [
    {
     "name": "stdout",
     "output_type": "stream",
     "text": [
      "* * * * *\n",
      "      *  \n",
      "    *    \n",
      "  *      \n",
      "* * * * *\n"
     ]
    }
   ],
   "execution_count": 28
  },
  {
   "metadata": {},
   "cell_type": "markdown",
   "source": "# Lists",
   "id": "d7f9daeb2ccd20ce"
  },
  {
   "metadata": {
    "ExecuteTime": {
     "end_time": "2025-06-15T01:36:33.113338Z",
     "start_time": "2025-06-15T01:36:33.107476Z"
    }
   },
   "cell_type": "code",
   "source": [
    "s='string'\n",
    "print('first:',s[0])\n",
    "print('length',l:=len(s))\n",
    "print('last:', s[l-1], s[-1])"
   ],
   "id": "1f07d8b21ac3a886",
   "outputs": [
    {
     "name": "stdout",
     "output_type": "stream",
     "text": [
      "first: s\n",
      "length 6\n",
      "last: g g\n"
     ]
    }
   ],
   "execution_count": 13
  },
  {
   "metadata": {},
   "cell_type": "markdown",
   "source": [
    "#### big-ones\n",
    "How many 2-digit numbers have tens digit smaller than it unit digit\n",
    "i.e suppose for number 56, 5 is tens position, 6 is ones position\n",
    "    5 < 6"
   ],
   "id": "165db8727809e6fa"
  },
  {
   "metadata": {
    "ExecuteTime": {
     "end_time": "2025-06-15T01:41:57.920913Z",
     "start_time": "2025-06-15T01:41:57.913716Z"
    }
   },
   "cell_type": "code",
   "source": [
    "arr = range(10, 100)\n",
    "bigOnes = []\n",
    "for i in arr:\n",
    "    s = str(i)\n",
    "    if s[0] < s[-1]: bigOnes.append(i)\n",
    "print('o/p:', *bigOnes)\n",
    "print('Big ones:', len(bigOnes))"
   ],
   "id": "77f11d63d348dc19",
   "outputs": [
    {
     "name": "stdout",
     "output_type": "stream",
     "text": [
      "o/p: 12 13 14 15 16 17 18 19 23 24 25 26 27 28 29 34 35 36 37 38 39 45 46 47 48 49 56 57 58 59 67 68 69 78 79 89\n",
      "Big ones: 36\n"
     ]
    }
   ],
   "execution_count": 14
  },
  {
   "metadata": {},
   "cell_type": "markdown",
   "source": "#### Split",
   "id": "53b9f2b0d25d69ae"
  },
  {
   "metadata": {
    "ExecuteTime": {
     "end_time": "2025-06-15T01:48:40.519900Z",
     "start_time": "2025-06-15T01:48:40.514801Z"
    }
   },
   "cell_type": "code",
   "source": [
    "s = 'select a sub string'\n",
    "print(i:=s.index('sub'))\n",
    "print(s[i:i+3]) # slice\n",
    "# start stop step\n",
    "a = list(range(10))\n",
    "print(a)\n",
    "print(a[0:-1:2]) # even\n",
    "print(a[1::2]) # odd"
   ],
   "id": "e3e452e02646bb34",
   "outputs": [
    {
     "name": "stdout",
     "output_type": "stream",
     "text": [
      "9\n",
      "sub\n",
      "[0, 1, 2, 3, 4, 5, 6, 7, 8, 9]\n",
      "[0, 2, 4, 6, 8]\n",
      "[1, 3, 5, 7, 9]\n"
     ]
    }
   ],
   "execution_count": 16
  },
  {
   "metadata": {},
   "cell_type": "markdown",
   "source": "#### vowels frequency",
   "id": "38fda69f8f020f21"
  },
  {
   "metadata": {
    "ExecuteTime": {
     "end_time": "2025-06-14T14:04:41.591092Z",
     "start_time": "2025-06-14T14:04:41.587766Z"
    }
   },
   "cell_type": "code",
   "source": [
    "inp = 'communicates with lazy long dogs'.lower()\n",
    "vowels = 'aeiou'\n",
    "count = [0] * len(vowels)\n",
    "for c in inp:\n",
    "    if c in vowels: count[vowels.index(c)] += 1\n",
    "print(*vowels)\n",
    "print(*count)"
   ],
   "id": "b7fe218922045d69",
   "outputs": [
    {
     "name": "stdout",
     "output_type": "stream",
     "text": [
      "a e i o u\n",
      "2 1 2 3 1\n"
     ]
    }
   ],
   "execution_count": 16
  },
  {
   "metadata": {
    "ExecuteTime": {
     "end_time": "2025-06-14T14:06:15.994924Z",
     "start_time": "2025-06-14T14:06:15.991863Z"
    }
   },
   "cell_type": "code",
   "source": [
    "inp = 'communicates with lazy long dogs'.lower()\n",
    "vowels = 'aeiou'\n",
    "# One line code using count() in string\n",
    "count = [inp.count(v) for v in vowels]\n",
    "print(*vowels)\n",
    "print(*count)"
   ],
   "id": "3f0f671b24844da8",
   "outputs": [
    {
     "name": "stdout",
     "output_type": "stream",
     "text": [
      "a e i o u\n",
      "2 1 2 3 1\n"
     ]
    }
   ],
   "execution_count": 17
  },
  {
   "metadata": {},
   "cell_type": "markdown",
   "source": [
    "### Palindrome\n",
    "#### String"
   ],
   "id": "3d45d66cb0efd1b9"
  },
  {
   "metadata": {
    "ExecuteTime": {
     "end_time": "2025-06-14T14:07:50.924135Z",
     "start_time": "2025-06-14T14:07:50.921210Z"
    }
   },
   "cell_type": "code",
   "source": [
    "# variable[start, stop, interval]\n",
    "print('1234'[::-1])"
   ],
   "id": "6a44b873f194afc1",
   "outputs": [
    {
     "name": "stdout",
     "output_type": "stream",
     "text": [
      "4321\n"
     ]
    }
   ],
   "execution_count": 18
  },
  {
   "metadata": {
    "ExecuteTime": {
     "end_time": "2025-06-14T14:12:05.906794Z",
     "start_time": "2025-06-14T14:12:05.903712Z"
    }
   },
   "cell_type": "code",
   "source": [
    "inputs = ['रहर' , 'मलम', 'नयन', 'hannah', 'racecar', 'potato', 'redrum']\n",
    "for x in inputs:\n",
    "    print(x, x == x[::-1], sep='\\t')"
   ],
   "id": "748c75cbbb640878",
   "outputs": [
    {
     "name": "stdout",
     "output_type": "stream",
     "text": [
      "रहर\tTrue\n",
      "मलम\tTrue\n",
      "नयन\tTrue\n",
      "hannah\tTrue\n",
      "racecar\tTrue\n",
      "potato\tFalse\n",
      "redrum\tFalse\n"
     ]
    }
   ],
   "execution_count": 23
  },
  {
   "metadata": {
    "ExecuteTime": {
     "end_time": "2025-06-15T02:09:47.430564Z",
     "start_time": "2025-06-15T02:09:43.806658Z"
    }
   },
   "cell_type": "code",
   "source": [
    "import math\n",
    "num = int(input('Enter a number:'))\n",
    "n = num\n",
    "l = int(math.log10(n)) + 1 # length of num using math; faster than string\n",
    "rev = 0\n",
    "for i in range(l):\n",
    "    n, r = divmod(n, 10)\n",
    "    rev = 10 * rev + r\n",
    "print('reverse:', rev)\n",
    "print('palindrome:', rev == num)"
   ],
   "id": "364b414ac0e9dbeb",
   "outputs": [
    {
     "name": "stdout",
     "output_type": "stream",
     "text": [
      "reverse: 1234321\n",
      "palindrome: True\n"
     ]
    }
   ],
   "execution_count": 26
  },
  {
   "metadata": {},
   "cell_type": "markdown",
   "source": "#### show all 2-digit numbers palindrome in base 2, 8",
   "id": "9699e19e90f6f946"
  },
  {
   "metadata": {
    "ExecuteTime": {
     "end_time": "2025-06-14T14:20:01.224110Z",
     "start_time": "2025-06-14T14:20:01.220823Z"
    }
   },
   "cell_type": "code",
   "source": [
    "for n in range(10, 100):\n",
    "    binary = format(n, 'b')\n",
    "    octal = format(n, 'o')\n",
    "\n",
    "    if binary == binary[::-1] and octal == octal[::-1]:\n",
    "        # print(\"{}\\t{}\\t{}\".format(n, binary, octal))\n",
    "        print(f\"{n}\\t{binary}\\t{octal}\") # Cool formatting trick"
   ],
   "id": "74b2a2722c5b14c0",
   "outputs": [
    {
     "name": "stdout",
     "output_type": "stream",
     "text": [
      "27\t11011\t33\n",
      "45\t101101\t55\n",
      "63\t111111\t77\n",
      "65\t1000001\t101\n",
      "73\t1001001\t111\n"
     ]
    }
   ],
   "execution_count": 26
  },
  {
   "metadata": {},
   "cell_type": "markdown",
   "source": [
    "## While loops\n",
    "#### Quit on 'q'"
   ],
   "id": "4ff19baf44e0010f"
  },
  {
   "metadata": {
    "ExecuteTime": {
     "end_time": "2025-06-16T01:14:41.769011Z",
     "start_time": "2025-06-16T01:14:36.625766Z"
    }
   },
   "cell_type": "code",
   "source": [
    "acc = inp = 0\n",
    "count = 0\n",
    "maxm, minm = float('-inf'), float('inf')\n",
    "while inp != 'q':\n",
    "    inp = input('Enter number (q to quit): ')\n",
    "    try:\n",
    "        x = float(inp)\n",
    "        acc += x\n",
    "        count += 1\n",
    "        maxm, minm = max(maxm, x), min(minm, x)\n",
    "        print('sum:', acc)\n",
    "    except Exception as e:\n",
    "        # continue\n",
    "        print(f'Invalid input: {inp}' if inp != 'q' else f'\\nFinal sum: {acc}')\n",
    "print('Average:', acc / count)\n",
    "print('Min:', minm)\n",
    "print('Max:', maxm)"
   ],
   "id": "9883e0036b1bf8e1",
   "outputs": [
    {
     "name": "stdout",
     "output_type": "stream",
     "text": [
      "sum: 23.0\n",
      "\n",
      "Final sum: 23.0\n",
      "Average: 23.0\n",
      "Min: 23.0\n",
      "Max: 23.0\n"
     ]
    }
   ],
   "execution_count": 13
  },
  {
   "metadata": {},
   "cell_type": "markdown",
   "source": "### Functions",
   "id": "387ffba0704409bd"
  },
  {
   "metadata": {
    "ExecuteTime": {
     "end_time": "2025-06-16T01:35:41.364252Z",
     "start_time": "2025-06-16T01:35:41.358722Z"
    }
   },
   "cell_type": "code",
   "source": [
    "def triangle(height = 5, symbol='*'):\n",
    "    for i in range(height):\n",
    "        print(f' {symbol}' * (i + 1))\n",
    "\n",
    "# Nepal flag\n",
    "triangle(4, '🌙')\n",
    "triangle(4, '🌞')"
   ],
   "id": "d54ad84532754138",
   "outputs": [
    {
     "name": "stdout",
     "output_type": "stream",
     "text": [
      " 🌙\n",
      " 🌙 🌙\n",
      " 🌙 🌙 🌙\n",
      " 🌙 🌙 🌙 🌙\n",
      " 🌞\n",
      " 🌞 🌞\n",
      " 🌞 🌞 🌞\n",
      " 🌞 🌞 🌞 🌞\n"
     ]
    }
   ],
   "execution_count": 26
  },
  {
   "metadata": {},
   "cell_type": "markdown",
   "source": "### Caesar Cipher",
   "id": "7eb3a649fc228c2d"
  },
  {
   "metadata": {
    "ExecuteTime": {
     "end_time": "2025-06-16T01:51:59.703889Z",
     "start_time": "2025-06-16T01:51:59.696899Z"
    }
   },
   "cell_type": "code",
   "source": [
    "import string\n",
    "def getChar(c, s, arr):\n",
    "    index = arr.index(c)\n",
    "    newIndex = (index + s) % 26\n",
    "    return arr[newIndex]\n",
    "\n",
    "def ceasor(letter, shift):\n",
    "    decoded = ''\n",
    "    if letter in string.ascii_uppercase:\n",
    "        decoded += getChar(letter, shift, string.ascii_uppercase)\n",
    "    elif letter in string.ascii_lowercase:\n",
    "        decoded += getChar(letter, shift, string.ascii_lowercase)\n",
    "    else:\n",
    "        decoded += letter\n",
    "    return decoded\n",
    "\n",
    "\n",
    "for c in 'Tcxlsr 3 mw EAIWSQI!!':\n",
    "    print(ceasor(c, -4), end='')\n"
   ],
   "id": "3dd633475885482d",
   "outputs": [
    {
     "name": "stdout",
     "output_type": "stream",
     "text": [
      "Python 3 is AWESOME!!"
     ]
    }
   ],
   "execution_count": 49
  },
  {
   "metadata": {
    "ExecuteTime": {
     "end_time": "2025-06-16T01:55:16.555727Z",
     "start_time": "2025-06-16T01:55:16.549521Z"
    }
   },
   "cell_type": "code",
   "source": [
    "def ceasor(c, shift):\n",
    "    if not c.isalpha(): return c\n",
    "    offset = ord('a') if c.islower() else ord('A')\n",
    "    return chr((ord(c) - offset + shift) % 26 + offset)\n",
    "\n",
    "for c in 'Tcxlsr 3 mw EAIWSQI!!':\n",
    "    print(ceasor(c, -4), end='')"
   ],
   "id": "2654b19842a2b63a",
   "outputs": [
    {
     "name": "stdout",
     "output_type": "stream",
     "text": [
      "Python 3 is AWESOME!!"
     ]
    }
   ],
   "execution_count": 52
  },
  {
   "metadata": {},
   "cell_type": "markdown",
   "source": "### Human readable size",
   "id": "74a123701301b2d"
  },
  {
   "metadata": {
    "ExecuteTime": {
     "end_time": "2025-06-16T02:20:52.091133Z",
     "start_time": "2025-06-16T02:20:52.086442Z"
    }
   },
   "cell_type": "code",
   "source": [
    "import os\n",
    "\n",
    "def truncate(fileName, width):\n",
    "    if (len(fileName) > width):\n",
    "        fileName = fileName[:width - 3] + '...'\n",
    "    return fileName.rjust(width)\n",
    "\n",
    "def readable(size):\n",
    "    for unit in ['B', 'KB', 'MB', 'GB', 'TB', 'PB']:\n",
    "        if size < 1024.0: return f'{size:6.2f} {unit}'\n",
    "        size /= 1024.0\n",
    "    return f'{size:6.2e} {unit}'.replace('e+0', 'e') # Fallback with max size unit\n",
    "\n",
    "for file in os.scandir():\n",
    "    if file.is_dir(): continue\n",
    "    size = os.path.getsize(file)\n",
    "    print(truncate(file.name, 20), readable(size))\n"
   ],
   "id": "18886a6eb281cce2",
   "outputs": [
    {
     "name": "stdout",
     "output_type": "stream",
     "text": [
      "         Lab 1.ipynb  35.25 KB\n",
      "        Lecture 1.py 906.00 B\n",
      "Oracle_Database_2...   5.95 GB\n"
     ]
    }
   ],
   "execution_count": 81
  },
  {
   "metadata": {},
   "cell_type": "markdown",
   "source": "### Hangman",
   "id": "f424b6dda609c466"
  },
  {
   "metadata": {},
   "cell_type": "code",
   "outputs": [],
   "execution_count": null,
   "source": "",
   "id": "6f5c4bd5b742ce7"
  }
 ],
 "metadata": {
  "kernelspec": {
   "display_name": "Python 3",
   "language": "python",
   "name": "python3"
  },
  "language_info": {
   "codemirror_mode": {
    "name": "ipython",
    "version": 2
   },
   "file_extension": ".py",
   "mimetype": "text/x-python",
   "name": "python",
   "nbconvert_exporter": "python",
   "pygments_lexer": "ipython2",
   "version": "2.7.6"
  }
 },
 "nbformat": 4,
 "nbformat_minor": 5
}
