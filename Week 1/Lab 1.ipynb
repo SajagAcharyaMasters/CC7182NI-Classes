{
 "cells": [
  {
   "metadata": {},
   "cell_type": "raw",
   "source": "Lab 1",
   "id": "135081555570a0d4"
  },
  {
   "metadata": {},
   "cell_type": "markdown",
   "source": "#### Math library",
   "id": "20eda4776db10ead"
  },
  {
   "metadata": {
    "ExecuteTime": {
     "end_time": "2025-06-09T02:10:54.184302Z",
     "start_time": "2025-06-09T02:10:50.958882Z"
    }
   },
   "cell_type": "code",
   "source": [
    "import math\n",
    "variable = input('Enter radius: ')\n",
    "radius = float(variable)\n",
    "area = math.pi * radius ** 2\n",
    "print('Area of circle is', area)"
   ],
   "id": "cd502211a796521a",
   "outputs": [
    {
     "name": "stdout",
     "output_type": "stream",
     "text": [
      "Area of circle is 78.53981633974483\n"
     ]
    }
   ],
   "execution_count": 47
  },
  {
   "metadata": {},
   "cell_type": "markdown",
   "source": "#### Factorial",
   "id": "6cbac936892466c6"
  },
  {
   "metadata": {
    "ExecuteTime": {
     "end_time": "2025-06-09T01:17:27.156292Z",
     "start_time": "2025-06-09T01:17:27.151286Z"
    }
   },
   "cell_type": "code",
   "source": [
    "for i in range(ord('A'), ord('Z') + 1):\n",
    "    char = chr(i)\n",
    "    print(char, char.lower(), sep=\"\", end=' ')"
   ],
   "id": "aa99e8bb15a1262",
   "outputs": [
    {
     "name": "stdout",
     "output_type": "stream",
     "text": [
      "Aa Bb Cc Dd Ee Ff Gg Hh Ii Jj Kk Ll Mm Nn Oo Pp Qq Rr Ss Tt Uu Vv Ww Xx Yy Zz "
     ]
    }
   ],
   "execution_count": 15
  },
  {
   "metadata": {},
   "cell_type": "markdown",
   "source": "#### Place power of number",
   "id": "b9fec6673b9d87a3"
  },
  {
   "metadata": {
    "ExecuteTime": {
     "end_time": "2025-06-09T01:14:51.122875Z",
     "start_time": "2025-06-09T01:14:47.835517Z"
    }
   },
   "cell_type": "code",
   "source": [
    "inp = input('Enter number:')\n",
    "for i, c in enumerate(reversed(inp)):\n",
    "    num = int(c)\n",
    "    place = 10 ** i\n",
    "    print(num, place, num * place, sep='\\t')"
   ],
   "id": "633af24aa37a932d",
   "outputs": [
    {
     "name": "stdout",
     "output_type": "stream",
     "text": [
      "1\t1\t1\n",
      "6\t10\t60\n",
      "3\t100\t300\n"
     ]
    }
   ],
   "execution_count": 7
  },
  {
   "metadata": {},
   "cell_type": "markdown",
   "source": "### Fibonacci Series",
   "id": "dc5ef2f769712e6e"
  },
  {
   "metadata": {
    "ExecuteTime": {
     "end_time": "2025-06-09T01:30:20.162720Z",
     "start_time": "2025-06-09T01:30:17.707904Z"
    }
   },
   "cell_type": "code",
   "source": [
    "a, b = 0, 1\n",
    "n = int(input('Enter how many fibonacci numbers:'))\n",
    "print(a, end=' ')\n",
    "for i in range(n):\n",
    "    print(b, end=' ')\n",
    "    t = a + b\n",
    "    a, b = b, t"
   ],
   "id": "ffb02bf0b07b5c8",
   "outputs": [
    {
     "name": "stdout",
     "output_type": "stream",
     "text": [
      "0 1 1 2 3 5 8 13 21 34 55 89 144 233 "
     ]
    }
   ],
   "execution_count": 19
  },
  {
   "metadata": {},
   "cell_type": "markdown",
   "source": "### Count type of char",
   "id": "b8af5f73bfae4d65"
  },
  {
   "metadata": {
    "ExecuteTime": {
     "end_time": "2025-06-09T01:40:22.742367Z",
     "start_time": "2025-06-09T01:40:03.053649Z"
    }
   },
   "cell_type": "code",
   "source": [
    "s = input('Enter phrase:')\n",
    "a = n = o = 0\n",
    "for i, c in enumerate(s):\n",
    "    if c.isdigit(): # 'If' is not taught yet lol\n",
    "        n += 1\n",
    "    elif c.isalpha():\n",
    "        a += 1\n",
    "    else:\n",
    "        o += 1\n",
    "print(s)\n",
    "print('Alphabets:', a)\n",
    "print('Numbers:', n)\n",
    "print('Others:', o)"
   ],
   "id": "b21f531939676430",
   "outputs": [
    {
     "name": "stdout",
     "output_type": "stream",
     "text": [
      "Potatoes are very tasty for Rs.50\n",
      "Alphabets: 25\n",
      "Numbers: 2\n",
      "Others: 6\n"
     ]
    }
   ],
   "execution_count": 21
  },
  {
   "metadata": {
    "ExecuteTime": {
     "end_time": "2025-06-09T01:46:26.230839Z",
     "start_time": "2025-06-09T01:46:12.299808Z"
    }
   },
   "cell_type": "code",
   "source": [
    "s = input('Enter phrase:')\n",
    "a = n = 0\n",
    "for i, c in enumerate(s):\n",
    "    n += c.isdigit()\n",
    "    a += c.isalpha()\n",
    "print(s)\n",
    "print('Alphabets:', a)\n",
    "print('Numbers:', n)\n",
    "print('Others:', len(s) - a - n)"
   ],
   "id": "2ce6d38e22e301ae",
   "outputs": [
    {
     "name": "stdout",
     "output_type": "stream",
     "text": [
      "Potatoes are very tasty for Rs.50\n",
      "Alphabets: 25\n",
      "Numbers: 2\n",
      "Others: 6\n"
     ]
    }
   ],
   "execution_count": 22
  },
  {
   "metadata": {},
   "cell_type": "markdown",
   "source": "# Strings",
   "id": "518350e692996f5f"
  },
  {
   "metadata": {
    "ExecuteTime": {
     "end_time": "2025-06-09T01:48:38.813256Z",
     "start_time": "2025-06-09T01:48:38.808376Z"
    }
   },
   "cell_type": "code",
   "source": [
    "print('\\u0915')\n",
    "print('\\N{SNAKE}')\n",
    "print('\\N{SNOWMAN}')"
   ],
   "id": "e2baaa7e011569a7",
   "outputs": [
    {
     "name": "stdout",
     "output_type": "stream",
     "text": [
      "क\n",
      "🐍\n",
      "☃\n"
     ]
    }
   ],
   "execution_count": 24
  },
  {
   "metadata": {},
   "cell_type": "markdown",
   "source": [
    "### Devanagari chars\n",
    "ज्ञ and stuff are composite, so doesn't work in loop"
   ],
   "id": "a69eb9c94c918add"
  },
  {
   "metadata": {
    "ExecuteTime": {
     "end_time": "2025-06-09T01:54:19.711747Z",
     "start_time": "2025-06-09T01:54:19.706012Z"
    }
   },
   "cell_type": "code",
   "source": [
    "for i, c in enumerate(range(ord('क'), ord('ह') + 1)):\n",
    "    char = chr(c)\n",
    "    print(char, end='\\t')\n",
    "    if (i + 1) % 5 == 0:\n",
    "        print()"
   ],
   "id": "84c76ba530d64dd8",
   "outputs": [
    {
     "name": "stdout",
     "output_type": "stream",
     "text": [
      "क\tख\tग\tघ\tङ\t\n",
      "च\tछ\tज\tझ\tञ\t\n",
      "ट\tठ\tड\tढ\tण\t\n",
      "त\tथ\tद\tध\tन\t\n",
      "ऩ\tप\tफ\tब\tभ\t\n",
      "म\tय\tर\tऱ\tल\t\n",
      "ळ\tऴ\tव\tश\tष\t\n",
      "स\tह\t"
     ]
    }
   ],
   "execution_count": 33
  },
  {
   "metadata": {},
   "cell_type": "markdown",
   "source": "### Formatting strings",
   "id": "c90d32d0e5c28ac4"
  },
  {
   "metadata": {
    "ExecuteTime": {
     "end_time": "2025-06-09T02:02:06.076578Z",
     "start_time": "2025-06-09T02:02:06.071802Z"
    }
   },
   "cell_type": "code",
   "source": [
    "print('using {} version {}'.format('Python', 3.11))\n",
    "print('using {1} version {0}'.format(3.11, 'Python'))\n",
    "\n",
    "print('{:.4f}'.format(3.12))  # Show 4 floating nums\n",
    "print('{:.1f}'.format(3.12))  # Show 1 floating num\n",
    "print('{:05}'.format(3.1))  # Add 0s ahead of num until 5 digits\n",
    "\n",
    "print('using {1} version {0:05.1f}'.format(3.131, 'Python'))"
   ],
   "id": "3a627a7a59c0637e",
   "outputs": [
    {
     "name": "stdout",
     "output_type": "stream",
     "text": [
      "using Python version 3.11\n",
      "using Python version 3.11\n",
      "3.1200\n",
      "3.1\n",
      "003.1\n",
      "using Python version 003.1\n"
     ]
    }
   ],
   "execution_count": 40
  },
  {
   "metadata": {},
   "cell_type": "markdown",
   "source": "### Multiplication table",
   "id": "4140b29931091dae"
  },
  {
   "metadata": {
    "ExecuteTime": {
     "end_time": "2025-06-09T02:11:55.168900Z",
     "start_time": "2025-06-09T02:11:52.728412Z"
    }
   },
   "cell_type": "code",
   "source": [
    "n = int(input('Enter a number:'))\n",
    "for i in range(1, 11):\n",
    "    print('{:02} X {:02} = {:3}'.format(i, n, n * i))"
   ],
   "id": "6948d597a867cc4c",
   "outputs": [
    {
     "name": "stdout",
     "output_type": "stream",
     "text": [
      "01 X 12 =  12\n",
      "02 X 12 =  24\n",
      "03 X 12 =  36\n",
      "04 X 12 =  48\n",
      "05 X 12 =  60\n",
      "06 X 12 =  72\n",
      "07 X 12 =  84\n",
      "08 X 12 =  96\n",
      "09 X 12 = 108\n",
      "10 X 12 = 120\n"
     ]
    }
   ],
   "execution_count": 49
  },
  {
   "metadata": {},
   "cell_type": "markdown",
   "source": "#### Operations",
   "id": "943c632504684034"
  },
  {
   "metadata": {
    "ExecuteTime": {
     "end_time": "2025-06-09T02:14:03.940766Z",
     "start_time": "2025-06-09T02:14:03.936143Z"
    }
   },
   "cell_type": "code",
   "source": [
    "py = 'Python'\n",
    "for i in range(4):\n",
    "    print(py * i)"
   ],
   "id": "f82718a1ac17b362",
   "outputs": [
    {
     "name": "stdout",
     "output_type": "stream",
     "text": [
      "\n",
      "Python\n",
      "PythonPython\n",
      "PythonPythonPython\n"
     ]
    }
   ],
   "execution_count": 51
  },
  {
   "metadata": {
    "ExecuteTime": {
     "end_time": "2025-06-09T02:15:24.335214Z",
     "start_time": "2025-06-09T02:15:24.330579Z"
    }
   },
   "cell_type": "code",
   "source": [
    "c = ' *'\n",
    "for i in range(6):\n",
    "    print(c * i)"
   ],
   "id": "800bce271e17f47b",
   "outputs": [
    {
     "name": "stdout",
     "output_type": "stream",
     "text": [
      "\n",
      " *\n",
      " * *\n",
      " * * *\n",
      " * * * *\n",
      " * * * * *\n"
     ]
    }
   ],
   "execution_count": 54
  },
  {
   "metadata": {},
   "cell_type": "markdown",
   "source": "#### count and multiline",
   "id": "cc7443383df5ed42"
  },
  {
   "metadata": {
    "ExecuteTime": {
     "end_time": "2025-06-09T02:17:52.013061Z",
     "start_time": "2025-06-09T02:17:52.007743Z"
    }
   },
   "cell_type": "code",
   "source": [
    "s = (\n",
    "'You need a programming language to program a program,\\n'\n",
    "'How do you program a programming language to program,\\n'\n",
    "'a program to program programs ?'\n",
    ")\n",
    "print(s)\n",
    "print(len(s))\n",
    "print(s.count('a')) # single char\n",
    "print(s.count('program')) # multi char\n"
   ],
   "id": "aae381578e12c6b7",
   "outputs": [
    {
     "name": "stdout",
     "output_type": "stream",
     "text": [
      "You need a programming language to program a program,\n",
      "How do you program a programming language to program,\n",
      "a program to program programs ?\n",
      "139\n",
      "17\n",
      "9\n"
     ]
    }
   ],
   "execution_count": 57
  },
  {
   "metadata": {},
   "cell_type": "markdown",
   "source": "#### vowel counter",
   "id": "b5af9e5488861769"
  },
  {
   "metadata": {
    "ExecuteTime": {
     "end_time": "2025-06-09T02:23:42.357033Z",
     "start_time": "2025-06-09T02:23:27.300875Z"
    }
   },
   "cell_type": "code",
   "source": [
    "s = input('Enter word:').lower()\n",
    "print(s.count('a') + s.count('e') + s.count('i') + s.count('o') + s.count('u'))"
   ],
   "id": "146577c6b15aa149",
   "outputs": [
    {
     "name": "stdout",
     "output_type": "stream",
     "text": [
      "6\n"
     ]
    }
   ],
   "execution_count": 62
  },
  {
   "metadata": {},
   "cell_type": "markdown",
   "source": "### Types of string",
   "id": "1972d5e8f4da8e9f"
  },
  {
   "metadata": {
    "ExecuteTime": {
     "end_time": "2025-06-09T02:25:42.354422Z",
     "start_time": "2025-06-09T02:25:42.349195Z"
    }
   },
   "cell_type": "code",
   "source": [
    "print('क') # unicode\n",
    "print(r'he\\t\\nllo\\n') # raw form\n",
    "print(b'hello') # bytes stream"
   ],
   "id": "a7dbd792df6fc36d",
   "outputs": [
    {
     "name": "stdout",
     "output_type": "stream",
     "text": [
      "क\n",
      "he\\t\\nllo\\n\n",
      "b'hello'\n"
     ]
    }
   ],
   "execution_count": 63
  },
  {
   "metadata": {
    "ExecuteTime": {
     "end_time": "2025-06-09T02:26:41.996883Z",
     "start_time": "2025-06-09T02:26:41.991970Z"
    }
   },
   "cell_type": "code",
   "source": [
    "print('C:\\some\\new\\path') # here \\n means newline!\n",
    "print('C:\\\\fix\\\\with\\\\escape\\\\sequence') # normal fix\n",
    "print(r'C:\\fix\\with\\raw') # note the r before the quote\n"
   ],
   "id": "76b2d629abbf9632",
   "outputs": [
    {
     "name": "stdout",
     "output_type": "stream",
     "text": [
      "C:\\some\n",
      "ew\\path\n",
      "C:\\fix\\with\\escape\\sequence\n",
      "C:\\fix\\with\\raw\n"
     ]
    },
    {
     "name": "stderr",
     "output_type": "stream",
     "text": [
      "<>:1: SyntaxWarning: invalid escape sequence '\\s'\n",
      "<>:1: SyntaxWarning: invalid escape sequence '\\s'\n",
      "C:\\Users\\Sajag\\AppData\\Local\\Temp\\ipykernel_16524\\509058467.py:1: SyntaxWarning: invalid escape sequence '\\s'\n",
      "  print('C:\\some\\new\\path') # here \\n means newline!\n"
     ]
    }
   ],
   "execution_count": 64
  },
  {
   "metadata": {
    "ExecuteTime": {
     "end_time": "2025-06-09T02:27:37.325761Z",
     "start_time": "2025-06-09T02:27:37.321306Z"
    }
   },
   "cell_type": "code",
   "source": [
    "single = '🥇 can contain \"double\" quote'; print(single)\n",
    "double = \"🥈 can contain 'single' quote\"; print(double)\n",
    "triple = \"\"\"🥉 can contain multi-line which can contain\n",
    "'single' or \"double\" quotes and triple single '''\n",
    "\"\"\"\n",
    "print(triple)\n",
    "print(''' wrapped in \"\"\"single\"\"\" quote ''')"
   ],
   "id": "6d3d40b5766ebe19",
   "outputs": [
    {
     "name": "stdout",
     "output_type": "stream",
     "text": [
      "🥇 can contain \"double\" quote\n",
      "🥈 can contain 'single' quote\n",
      "🥉 can contain multi-line which can contain\n",
      "'single' or \"double\" quotes and triple single '''\n",
      "\n",
      " wrapped in \"\"\"single\"\"\" quote \n"
     ]
    }
   ],
   "execution_count": 65
  },
  {
   "metadata": {},
   "cell_type": "markdown",
   "source": "# Conditionals",
   "id": "cdf0388a0f682de9"
  },
  {
   "metadata": {
    "ExecuteTime": {
     "end_time": "2025-06-09T02:31:07.100265Z",
     "start_time": "2025-06-09T02:31:07.095080Z"
    }
   },
   "cell_type": "code",
   "source": [
    "if 1 == 1.0: # True\n",
    "    print('Yes')\n",
    "else:\n",
    "    print('No')"
   ],
   "id": "b1ee3aa1b40c844a",
   "outputs": [
    {
     "name": "stdout",
     "output_type": "stream",
     "text": [
      "Yes\n"
     ]
    }
   ],
   "execution_count": 67
  },
  {
   "metadata": {},
   "cell_type": "markdown",
   "source": "### Even or odd",
   "id": "3d6b260fff681509"
  },
  {
   "metadata": {
    "ExecuteTime": {
     "end_time": "2025-06-09T02:36:09.264073Z",
     "start_time": "2025-06-09T02:36:05.589769Z"
    }
   },
   "cell_type": "code",
   "source": [
    "n = int(input('Enter a number:'))\n",
    "if n % 2: # 0 is False\n",
    "    print('{} is odd'.format(n))\n",
    "else:\n",
    "    print('{} is even'.format(n))\n",
    "\n",
    "print('odd' if n % 2 else 'even')"
   ],
   "id": "dc1506ac7b788ef2",
   "outputs": [
    {
     "name": "stdout",
     "output_type": "stream",
     "text": [
      "5 is odd\n",
      "odd\n"
     ]
    }
   ],
   "execution_count": 73
  },
  {
   "metadata": {},
   "cell_type": "markdown",
   "source": [
    "#### Calculate the division\n",
    "<33: fail; 33-60: 2nd; 60-80: 1st; >80: distinction"
   ],
   "id": "b16f3331b7a29d4f"
  },
  {
   "metadata": {
    "ExecuteTime": {
     "end_time": "2025-06-09T02:45:42.131644Z",
     "start_time": "2025-06-09T02:45:42.127893Z"
    }
   },
   "cell_type": "code",
   "source": [
    "x = 12\n",
    "print(3 <= x <= 10)"
   ],
   "id": "b48ca43208a89adc",
   "outputs": [
    {
     "name": "stdout",
     "output_type": "stream",
     "text": [
      "False\n"
     ]
    }
   ],
   "execution_count": 82
  },
  {
   "metadata": {
    "ExecuteTime": {
     "end_time": "2025-06-09T02:46:05.655286Z",
     "start_time": "2025-06-09T02:46:05.648960Z"
    }
   },
   "cell_type": "code",
   "source": [
    "subjects = ['Math', 'Science', 'Computer', 'Social studies', 'Nepali']\n",
    "marks = [80, 77, 95, 55, 32]\n",
    "\n",
    "for i, subject in enumerate(subjects):\n",
    "    m = marks[i]\n",
    "    if m < 33: div = 'Fail'\n",
    "    elif m < 60: div = '2nd division'\n",
    "    elif m < 80: div = '1st division'\n",
    "    else: div = 'Distinction'\n",
    "    print('{} with {}% is {}.'.format(subject, m, div))\n"
   ],
   "id": "35bc6d80666c3aa2",
   "outputs": [
    {
     "name": "stdout",
     "output_type": "stream",
     "text": [
      "Math with 80% is Distinction.\n",
      "Science with 77% is 1st division.\n",
      "Computer with 95% is Distinction.\n",
      "Social studies with 55% is 2nd division.\n",
      "Nepali with 32% is Fail.\n"
     ]
    }
   ],
   "execution_count": 83
  },
  {
   "metadata": {},
   "cell_type": "markdown",
   "source": "### Count Letter frequency",
   "id": "43b437ccd414c514"
  },
  {
   "metadata": {
    "ExecuteTime": {
     "end_time": "2025-06-09T16:39:52.737443Z",
     "start_time": "2025-06-09T16:39:52.734523Z"
    }
   },
   "cell_type": "code",
   "source": [
    "import string\n",
    "# GIVEN:\n",
    "print(*string.ascii_lowercase)\n",
    "count = [0] * 26 # similar like in string\n",
    "count[1] = 5 # changing the value"
   ],
   "id": "b19dab404e3c6f59",
   "outputs": [
    {
     "name": "stdout",
     "output_type": "stream",
     "text": [
      "a b c d e f g h i j k l m n o p q r s t u v w x y z\n"
     ]
    }
   ],
   "execution_count": 3
  },
  {
   "metadata": {},
   "cell_type": "markdown",
   "source": "Q: the quick brown fox jumps over the lazy dog",
   "id": "98c0002214f41360"
  },
  {
   "metadata": {
    "ExecuteTime": {
     "end_time": "2025-06-09T16:39:54.470680Z",
     "start_time": "2025-06-09T16:39:54.467322Z"
    }
   },
   "cell_type": "code",
   "source": [
    "a = ord('a')\n",
    "str_in = 'the quick brown fox jumps over the lazy dog'\n",
    "count = [0] * 26\n",
    "for i in str_in:\n",
    "    index = ord(i.lower()) - a\n",
    "    if 0 <= index < 26: count[index] += 1\n",
    "print(*string.ascii_lowercase)\n",
    "print(*count)"
   ],
   "id": "8c1886b8c2a80d0c",
   "outputs": [
    {
     "name": "stdout",
     "output_type": "stream",
     "text": [
      "a b c d e f g h i j k l m n o p q r s t u v w x y z\n",
      "1 1 1 1 3 1 1 2 1 1 1 1 1 1 4 1 1 2 1 2 2 1 1 1 1 1\n"
     ]
    }
   ],
   "execution_count": 4
  },
  {
   "metadata": {},
   "cell_type": "markdown",
   "source": "### Patterns",
   "id": "6461bde5210e7a84"
  },
  {
   "metadata": {
    "ExecuteTime": {
     "end_time": "2025-06-09T17:04:17.333172Z",
     "start_time": "2025-06-09T17:04:17.330103Z"
    }
   },
   "cell_type": "code",
   "source": [
    "# Inverted triangle\n",
    "for i in range(5, 0, -1):\n",
    "    print('  ' * (5 - i), '* ' * i)"
   ],
   "id": "bf271937a187c483",
   "outputs": [
    {
     "name": "stdout",
     "output_type": "stream",
     "text": [
      " * * * * * \n",
      "   * * * * \n",
      "     * * * \n",
      "       * * \n",
      "         * \n"
     ]
    }
   ],
   "execution_count": 30
  },
  {
   "metadata": {
    "ExecuteTime": {
     "end_time": "2025-06-09T16:56:52.961464Z",
     "start_time": "2025-06-09T16:56:52.958605Z"
    }
   },
   "cell_type": "code",
   "source": [
    "# X Pattern using arrays\n",
    "n = 5\n",
    "for i in range(n):\n",
    "    line = [' '] * n\n",
    "    line[i] = line[n - 1 - i] = '*'\n",
    "    print(*line)"
   ],
   "id": "23d76a0b6feb6e46",
   "outputs": [
    {
     "name": "stdout",
     "output_type": "stream",
     "text": [
      "*       *\n",
      "  *   *  \n",
      "    *    \n",
      "  *   *  \n",
      "*       *\n"
     ]
    }
   ],
   "execution_count": 23
  },
  {
   "metadata": {
    "ExecuteTime": {
     "end_time": "2025-06-09T17:10:46.046344Z",
     "start_time": "2025-06-09T17:10:46.043083Z"
    }
   },
   "cell_type": "code",
   "source": [
    "# X Pattern without using arrays\n",
    "n = 5\n",
    "for i in range(n):\n",
    "    for j in range(n):\n",
    "        print('*' if j == i or j == n - 1 - i else ' ', end=' ')\n",
    "    print()\n"
   ],
   "id": "dd32b6f0fb613e99",
   "outputs": [
    {
     "name": "stdout",
     "output_type": "stream",
     "text": [
      "*       * \n",
      "  *   *   \n",
      "    *     \n",
      "  *   *   \n",
      "*       * \n"
     ]
    }
   ],
   "execution_count": 33
  },
  {
   "metadata": {
    "ExecuteTime": {
     "end_time": "2025-06-09T17:01:01.571508Z",
     "start_time": "2025-06-09T17:01:01.567979Z"
    }
   },
   "cell_type": "code",
   "source": [
    "# Z pattern\n",
    "n = 5\n",
    "for i in range(n):\n",
    "    if i == 0 or i == n - 1: line = '*' * n\n",
    "    else:\n",
    "        line = [' '] * n\n",
    "        line[n - 1 - i] = '*'\n",
    "    print(*line)"
   ],
   "id": "4f16593a3f9b327e",
   "outputs": [
    {
     "name": "stdout",
     "output_type": "stream",
     "text": [
      "* * * * *\n",
      "      *  \n",
      "    *    \n",
      "  *      \n",
      "* * * * *\n"
     ]
    }
   ],
   "execution_count": 28
  },
  {
   "metadata": {},
   "cell_type": "markdown",
   "source": "# Lists",
   "id": "d7f9daeb2ccd20ce"
  },
  {
   "metadata": {},
   "cell_type": "code",
   "outputs": [],
   "execution_count": null,
   "source": "",
   "id": "77f11d63d348dc19"
  }
 ],
 "metadata": {
  "kernelspec": {
   "display_name": "Python 3",
   "language": "python",
   "name": "python3"
  },
  "language_info": {
   "codemirror_mode": {
    "name": "ipython",
    "version": 2
   },
   "file_extension": ".py",
   "mimetype": "text/x-python",
   "name": "python",
   "nbconvert_exporter": "python",
   "pygments_lexer": "ipython2",
   "version": "2.7.6"
  }
 },
 "nbformat": 4,
 "nbformat_minor": 5
}
