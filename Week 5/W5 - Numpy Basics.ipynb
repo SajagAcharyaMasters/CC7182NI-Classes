{
 "cells": [
  {
   "cell_type": "code",
   "id": "initial_id",
   "metadata": {
    "collapsed": true,
    "ExecuteTime": {
     "end_time": "2025-06-30T02:27:02.310478Z",
     "start_time": "2025-06-30T02:27:02.300873Z"
    }
   },
   "source": [
    "import numpy as np\n",
    "\n",
    "print(zeros := np.zeros(10))\n",
    "print(ones := np.ones(10))\n",
    "print(full := np.full(10, 2))"
   ],
   "outputs": [
    {
     "name": "stdout",
     "output_type": "stream",
     "text": [
      "[0. 0. 0. 0. 0. 0. 0. 0. 0. 0.]\n",
      "[1. 1. 1. 1. 1. 1. 1. 1. 1. 1.]\n",
      "[2 2 2 2 2 2 2 2 2 2]\n"
     ]
    }
   ],
   "execution_count": 2
  },
  {
   "metadata": {
    "ExecuteTime": {
     "end_time": "2025-06-30T02:27:59.074928Z",
     "start_time": "2025-06-30T02:27:59.069943Z"
    }
   },
   "cell_type": "code",
   "source": [
    "a = np.array([1, 2])\n",
    "print(np.tile(a, 2))\n",
    "print(np.repeat(a, 3))"
   ],
   "id": "103439850cfe7a52",
   "outputs": [
    {
     "name": "stdout",
     "output_type": "stream",
     "text": [
      "[1 2 1 2]\n",
      "[1 1 1 2 2 2]\n"
     ]
    }
   ],
   "execution_count": 4
  },
  {
   "metadata": {
    "ExecuteTime": {
     "end_time": "2025-06-30T02:31:46.319165Z",
     "start_time": "2025-06-30T02:31:46.313135Z"
    }
   },
   "cell_type": "code",
   "source": [
    "print(xarr := np.arange(5))\n",
    "print(*xarr)"
   ],
   "id": "7d4668b8a3c95a73",
   "outputs": [
    {
     "name": "stdout",
     "output_type": "stream",
     "text": [
      "[0 1 2 3 4]\n",
      "0 1 2 3 4\n"
     ]
    }
   ],
   "execution_count": 5
  },
  {
   "metadata": {
    "ExecuteTime": {
     "end_time": "2025-06-30T02:44:34.270419Z",
     "start_time": "2025-06-30T02:44:34.265196Z"
    }
   },
   "cell_type": "code",
   "source": [
    "# vector operation in numpy\n",
    "print(zeros + ones)\n",
    "print(np.concatenate((zeros, ones)))"
   ],
   "id": "821daa51fc941ed8",
   "outputs": [
    {
     "name": "stdout",
     "output_type": "stream",
     "text": [
      "[1. 1. 1. 1. 1. 1. 1. 1. 1. 1.]\n",
      "[0. 0. 0. 0. 0. 0. 0. 0. 0. 0. 1. 1. 1. 1. 1. 1. 1. 1. 1. 1.]\n"
     ]
    }
   ],
   "execution_count": 8
  }
 ],
 "metadata": {
  "kernelspec": {
   "display_name": "Python 3",
   "language": "python",
   "name": "python3"
  },
  "language_info": {
   "codemirror_mode": {
    "name": "ipython",
    "version": 2
   },
   "file_extension": ".py",
   "mimetype": "text/x-python",
   "name": "python",
   "nbconvert_exporter": "python",
   "pygments_lexer": "ipython2",
   "version": "2.7.6"
  }
 },
 "nbformat": 4,
 "nbformat_minor": 5
}
